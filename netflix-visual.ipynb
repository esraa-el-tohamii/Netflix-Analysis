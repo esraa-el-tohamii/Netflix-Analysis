{
 "cells": [
  {
   "cell_type": "code",
   "execution_count": 1,
   "id": "a7c1bd82",
   "metadata": {
    "_cell_guid": "b1076dfc-b9ad-4769-8c92-a6c4dae69d19",
    "_uuid": "8f2839f25d086af736a60e9eeb907d3b93b6e0e5",
    "execution": {
     "iopub.execute_input": "2025-02-21T08:09:22.757381Z",
     "iopub.status.busy": "2025-02-21T08:09:22.756917Z",
     "iopub.status.idle": "2025-02-21T08:09:23.814857Z",
     "shell.execute_reply": "2025-02-21T08:09:23.813561Z"
    },
    "papermill": {
     "duration": 1.069977,
     "end_time": "2025-02-21T08:09:23.816949",
     "exception": false,
     "start_time": "2025-02-21T08:09:22.746972",
     "status": "completed"
    },
    "tags": []
   },
   "outputs": [
    {
     "name": "stdout",
     "output_type": "stream",
     "text": [
      "/kaggle/input/dataset-netflix-shows-updated/netflix_data_updated.csv\n"
     ]
    }
   ],
   "source": [
    "# This Python 3 environment comes with many helpful analytics libraries installed\n",
    "# It is defined by the kaggle/python Docker image: https://github.com/kaggle/docker-python\n",
    "# For example, here's several helpful packages to load\n",
    "\n",
    "import numpy as np # linear algebra\n",
    "import pandas as pd # data processing, CSV file I/O (e.g. pd.read_csv)\n",
    "import matplotlib.pyplot as plt\n",
    "# Input data files are available in the read-only \"../input/\" directory\n",
    "# For example, running this (by clicking run or pressing Shift+Enter) will list all files under the input directory\n",
    "\n",
    "import os\n",
    "for dirname, _, filenames in os.walk('/kaggle/input'):\n",
    "    for filename in filenames:\n",
    "        print(os.path.join(dirname, filename))\n",
    "\n",
    "# You can write up to 20GB to the current directory (/kaggle/working/) that gets preserved as output when you create a version using \"Save & Run All\" \n",
    "# You can also write temporary files to /kaggle/temp/, but they won't be saved outside of the current session"
   ]
  },
  {
   "cell_type": "markdown",
   "id": "389c681e",
   "metadata": {
    "papermill": {
     "duration": 0.007793,
     "end_time": "2025-02-21T08:09:23.833447",
     "exception": false,
     "start_time": "2025-02-21T08:09:23.825654",
     "status": "completed"
    },
    "tags": []
   },
   "source": [
    "***First Get Data***"
   ]
  },
  {
   "cell_type": "code",
   "execution_count": 2,
   "id": "d38a77dd",
   "metadata": {
    "execution": {
     "iopub.execute_input": "2025-02-21T08:09:23.851456Z",
     "iopub.status.busy": "2025-02-21T08:09:23.850774Z",
     "iopub.status.idle": "2025-02-21T08:09:23.991084Z",
     "shell.execute_reply": "2025-02-21T08:09:23.989786Z"
    },
    "papermill": {
     "duration": 0.151598,
     "end_time": "2025-02-21T08:09:23.993101",
     "exception": false,
     "start_time": "2025-02-21T08:09:23.841503",
     "status": "completed"
    },
    "tags": []
   },
   "outputs": [
    {
     "data": {
      "text/html": [
       "<div>\n",
       "<style scoped>\n",
       "    .dataframe tbody tr th:only-of-type {\n",
       "        vertical-align: middle;\n",
       "    }\n",
       "\n",
       "    .dataframe tbody tr th {\n",
       "        vertical-align: top;\n",
       "    }\n",
       "\n",
       "    .dataframe thead th {\n",
       "        text-align: right;\n",
       "    }\n",
       "</style>\n",
       "<table border=\"1\" class=\"dataframe\">\n",
       "  <thead>\n",
       "    <tr style=\"text-align: right;\">\n",
       "      <th></th>\n",
       "      <th>show_id</th>\n",
       "      <th>type</th>\n",
       "      <th>title</th>\n",
       "      <th>director</th>\n",
       "      <th>cast</th>\n",
       "      <th>country</th>\n",
       "      <th>date_added</th>\n",
       "      <th>release_year</th>\n",
       "      <th>rating</th>\n",
       "      <th>duration</th>\n",
       "      <th>listed_in</th>\n",
       "      <th>description</th>\n",
       "    </tr>\n",
       "  </thead>\n",
       "  <tbody>\n",
       "    <tr>\n",
       "      <th>0</th>\n",
       "      <td>s1</td>\n",
       "      <td>Movie</td>\n",
       "      <td>Dick Johnson Is Dead</td>\n",
       "      <td>Kirsten Johnson</td>\n",
       "      <td>NaN</td>\n",
       "      <td>United States</td>\n",
       "      <td>September 25, 2021</td>\n",
       "      <td>2020.0</td>\n",
       "      <td>PG-13</td>\n",
       "      <td>90 min</td>\n",
       "      <td>Documentaries</td>\n",
       "      <td>As her father nears the end of his life, filmm...</td>\n",
       "    </tr>\n",
       "    <tr>\n",
       "      <th>1</th>\n",
       "      <td>s2</td>\n",
       "      <td>TV Show</td>\n",
       "      <td>Blood &amp; Water</td>\n",
       "      <td>NaN</td>\n",
       "      <td>Ama Qamata, Khosi Ngema, Gail Mabalane, Thaban...</td>\n",
       "      <td>South Africa</td>\n",
       "      <td>September 24, 2021</td>\n",
       "      <td>2021.0</td>\n",
       "      <td>TV-MA</td>\n",
       "      <td>2 Seasons</td>\n",
       "      <td>International TV Shows, TV Dramas, TV Mysteries</td>\n",
       "      <td>After crossing paths at a party, a Cape Town t...</td>\n",
       "    </tr>\n",
       "    <tr>\n",
       "      <th>2</th>\n",
       "      <td>s3</td>\n",
       "      <td>TV Show</td>\n",
       "      <td>Ganglands</td>\n",
       "      <td>Julien Leclercq</td>\n",
       "      <td>Sami Bouajila, Tracy Gotoas, Samuel Jouy, Nabi...</td>\n",
       "      <td>NaN</td>\n",
       "      <td>September 24, 2021</td>\n",
       "      <td>2021.0</td>\n",
       "      <td>TV-MA</td>\n",
       "      <td>1 Season</td>\n",
       "      <td>Crime TV Shows, International TV Shows, TV Act...</td>\n",
       "      <td>To protect his family from a powerful drug lor...</td>\n",
       "    </tr>\n",
       "    <tr>\n",
       "      <th>3</th>\n",
       "      <td>s4</td>\n",
       "      <td>TV Show</td>\n",
       "      <td>Jailbirds New Orleans</td>\n",
       "      <td>NaN</td>\n",
       "      <td>NaN</td>\n",
       "      <td>NaN</td>\n",
       "      <td>September 24, 2021</td>\n",
       "      <td>2021.0</td>\n",
       "      <td>TV-MA</td>\n",
       "      <td>1 Season</td>\n",
       "      <td>Docuseries, Reality TV</td>\n",
       "      <td>Feuds, flirtations and toilet talk go down amo...</td>\n",
       "    </tr>\n",
       "    <tr>\n",
       "      <th>4</th>\n",
       "      <td>s5</td>\n",
       "      <td>TV Show</td>\n",
       "      <td>Kota Factory</td>\n",
       "      <td>NaN</td>\n",
       "      <td>Mayur More, Jitendra Kumar, Ranjan Raj, Alam K...</td>\n",
       "      <td>India</td>\n",
       "      <td>September 24, 2021</td>\n",
       "      <td>2021.0</td>\n",
       "      <td>TV-MA</td>\n",
       "      <td>2 Seasons</td>\n",
       "      <td>International TV Shows, Romantic TV Shows, TV ...</td>\n",
       "      <td>In a city of coaching centers known to train I...</td>\n",
       "    </tr>\n",
       "  </tbody>\n",
       "</table>\n",
       "</div>"
      ],
      "text/plain": [
       "  show_id     type                  title         director  \\\n",
       "0      s1    Movie   Dick Johnson Is Dead  Kirsten Johnson   \n",
       "1      s2  TV Show          Blood & Water              NaN   \n",
       "2      s3  TV Show              Ganglands  Julien Leclercq   \n",
       "3      s4  TV Show  Jailbirds New Orleans              NaN   \n",
       "4      s5  TV Show           Kota Factory              NaN   \n",
       "\n",
       "                                                cast        country  \\\n",
       "0                                                NaN  United States   \n",
       "1  Ama Qamata, Khosi Ngema, Gail Mabalane, Thaban...   South Africa   \n",
       "2  Sami Bouajila, Tracy Gotoas, Samuel Jouy, Nabi...            NaN   \n",
       "3                                                NaN            NaN   \n",
       "4  Mayur More, Jitendra Kumar, Ranjan Raj, Alam K...          India   \n",
       "\n",
       "           date_added  release_year rating   duration  \\\n",
       "0  September 25, 2021        2020.0  PG-13     90 min   \n",
       "1  September 24, 2021        2021.0  TV-MA  2 Seasons   \n",
       "2  September 24, 2021        2021.0  TV-MA   1 Season   \n",
       "3  September 24, 2021        2021.0  TV-MA   1 Season   \n",
       "4  September 24, 2021        2021.0  TV-MA  2 Seasons   \n",
       "\n",
       "                                           listed_in  \\\n",
       "0                                      Documentaries   \n",
       "1    International TV Shows, TV Dramas, TV Mysteries   \n",
       "2  Crime TV Shows, International TV Shows, TV Act...   \n",
       "3                             Docuseries, Reality TV   \n",
       "4  International TV Shows, Romantic TV Shows, TV ...   \n",
       "\n",
       "                                         description  \n",
       "0  As her father nears the end of his life, filmm...  \n",
       "1  After crossing paths at a party, a Cape Town t...  \n",
       "2  To protect his family from a powerful drug lor...  \n",
       "3  Feuds, flirtations and toilet talk go down amo...  \n",
       "4  In a city of coaching centers known to train I...  "
      ]
     },
     "execution_count": 2,
     "metadata": {},
     "output_type": "execute_result"
    }
   ],
   "source": [
    "df=pd.read_csv('/kaggle/input/dataset-netflix-shows-updated/netflix_data_updated.csv')\n",
    "df.head()"
   ]
  },
  {
   "cell_type": "markdown",
   "id": "7d0adcc9",
   "metadata": {
    "papermill": {
     "duration": 0.007742,
     "end_time": "2025-02-21T08:09:24.009204",
     "exception": false,
     "start_time": "2025-02-21T08:09:24.001462",
     "status": "completed"
    },
    "tags": []
   },
   "source": [
    "***Check Data Types***"
   ]
  },
  {
   "cell_type": "code",
   "execution_count": 3,
   "id": "02b09d83",
   "metadata": {
    "execution": {
     "iopub.execute_input": "2025-02-21T08:09:24.026927Z",
     "iopub.status.busy": "2025-02-21T08:09:24.026472Z",
     "iopub.status.idle": "2025-02-21T08:09:24.034974Z",
     "shell.execute_reply": "2025-02-21T08:09:24.033782Z"
    },
    "papermill": {
     "duration": 0.01958,
     "end_time": "2025-02-21T08:09:24.036770",
     "exception": false,
     "start_time": "2025-02-21T08:09:24.017190",
     "status": "completed"
    },
    "tags": []
   },
   "outputs": [
    {
     "data": {
      "text/plain": [
       "show_id          object\n",
       "type             object\n",
       "title            object\n",
       "director         object\n",
       "cast             object\n",
       "country          object\n",
       "date_added       object\n",
       "release_year    float64\n",
       "rating           object\n",
       "duration         object\n",
       "listed_in        object\n",
       "description      object\n",
       "dtype: object"
      ]
     },
     "execution_count": 3,
     "metadata": {},
     "output_type": "execute_result"
    }
   ],
   "source": [
    "df.dtypes"
   ]
  },
  {
   "cell_type": "markdown",
   "id": "dfa466c6",
   "metadata": {
    "papermill": {
     "duration": 0.008412,
     "end_time": "2025-02-21T08:09:24.054196",
     "exception": false,
     "start_time": "2025-02-21T08:09:24.045784",
     "status": "completed"
    },
    "tags": []
   },
   "source": [
    "***Check Null Values***"
   ]
  },
  {
   "cell_type": "code",
   "execution_count": 4,
   "id": "2ba69a0c",
   "metadata": {
    "execution": {
     "iopub.execute_input": "2025-02-21T08:09:24.072594Z",
     "iopub.status.busy": "2025-02-21T08:09:24.072141Z",
     "iopub.status.idle": "2025-02-21T08:09:24.086509Z",
     "shell.execute_reply": "2025-02-21T08:09:24.085414Z"
    },
    "papermill": {
     "duration": 0.025817,
     "end_time": "2025-02-21T08:09:24.088352",
     "exception": false,
     "start_time": "2025-02-21T08:09:24.062535",
     "status": "completed"
    },
    "tags": []
   },
   "outputs": [
    {
     "data": {
      "text/plain": [
       "show_id            0\n",
       "type              40\n",
       "title              1\n",
       "director        1883\n",
       "cast             495\n",
       "country          663\n",
       "date_added         1\n",
       "release_year       1\n",
       "rating             1\n",
       "duration           1\n",
       "listed_in          1\n",
       "description        1\n",
       "dtype: int64"
      ]
     },
     "execution_count": 4,
     "metadata": {},
     "output_type": "execute_result"
    }
   ],
   "source": [
    "df.isnull().sum()"
   ]
  },
  {
   "cell_type": "markdown",
   "id": "7d2ee1a6",
   "metadata": {
    "papermill": {
     "duration": 0.007872,
     "end_time": "2025-02-21T08:09:24.104564",
     "exception": false,
     "start_time": "2025-02-21T08:09:24.096692",
     "status": "completed"
    },
    "tags": []
   },
   "source": [
    "# Cleaning Qs"
   ]
  },
  {
   "cell_type": "markdown",
   "id": "6d557741",
   "metadata": {
    "papermill": {
     "duration": 0.007985,
     "end_time": "2025-02-21T08:09:24.121077",
     "exception": false,
     "start_time": "2025-02-21T08:09:24.113092",
     "status": "completed"
    },
    "tags": []
   },
   "source": [
    "****Q1.**** ***yes > show_id column is important***"
   ]
  },
  {
   "cell_type": "markdown",
   "id": "28d8e1ed",
   "metadata": {
    "papermill": {
     "duration": 0.007799,
     "end_time": "2025-02-21T08:09:24.137175",
     "exception": false,
     "start_time": "2025-02-21T08:09:24.129376",
     "status": "completed"
    },
    "tags": []
   },
   "source": [
    "****Q2.**** ***fill missing values in type column with 100% accuracy of filling***"
   ]
  },
  {
   "cell_type": "code",
   "execution_count": 5,
   "id": "8aad9f88",
   "metadata": {
    "execution": {
     "iopub.execute_input": "2025-02-21T08:09:24.154905Z",
     "iopub.status.busy": "2025-02-21T08:09:24.154476Z",
     "iopub.status.idle": "2025-02-21T08:09:24.171247Z",
     "shell.execute_reply": "2025-02-21T08:09:24.170133Z"
    },
    "papermill": {
     "duration": 0.027596,
     "end_time": "2025-02-21T08:09:24.172968",
     "exception": false,
     "start_time": "2025-02-21T08:09:24.145372",
     "status": "completed"
    },
    "tags": []
   },
   "outputs": [
    {
     "data": {
      "text/plain": [
       "show_id            0\n",
       "type               0\n",
       "title              1\n",
       "director        1883\n",
       "cast             495\n",
       "country          663\n",
       "date_added         1\n",
       "release_year       1\n",
       "rating             1\n",
       "duration           1\n",
       "listed_in          1\n",
       "description        1\n",
       "dtype: int64"
      ]
     },
     "execution_count": 5,
     "metadata": {},
     "output_type": "execute_result"
    }
   ],
   "source": [
    "df['type']=df['type'].fillna(df['duration'].apply(lambda x: 'Movie' if 'min' in str(x) else 'TV Show'))\n",
    "df.isnull().sum()"
   ]
  },
  {
   "cell_type": "markdown",
   "id": "4e208857",
   "metadata": {
    "papermill": {
     "duration": 0.010062,
     "end_time": "2025-02-21T08:09:24.191750",
     "exception": false,
     "start_time": "2025-02-21T08:09:24.181688",
     "status": "completed"
    },
    "tags": []
   },
   "source": [
    "****Q3.**** ***Identify the three columns with the most missing values***"
   ]
  },
  {
   "cell_type": "code",
   "execution_count": 6,
   "id": "4da99ba9",
   "metadata": {
    "execution": {
     "iopub.execute_input": "2025-02-21T08:09:24.209853Z",
     "iopub.status.busy": "2025-02-21T08:09:24.209503Z",
     "iopub.status.idle": "2025-02-21T08:09:24.224931Z",
     "shell.execute_reply": "2025-02-21T08:09:24.223818Z"
    },
    "papermill": {
     "duration": 0.026534,
     "end_time": "2025-02-21T08:09:24.226776",
     "exception": false,
     "start_time": "2025-02-21T08:09:24.200242",
     "status": "completed"
    },
    "tags": []
   },
   "outputs": [
    {
     "data": {
      "text/plain": [
       "director    1883\n",
       "country      663\n",
       "cast         495\n",
       "dtype: int64"
      ]
     },
     "execution_count": 6,
     "metadata": {},
     "output_type": "execute_result"
    }
   ],
   "source": [
    "df.isnull().sum().sort_values(ascending=False).head(3)"
   ]
  },
  {
   "cell_type": "markdown",
   "id": "a4c513c8",
   "metadata": {
    "papermill": {
     "duration": 0.008514,
     "end_time": "2025-02-21T08:09:24.244225",
     "exception": false,
     "start_time": "2025-02-21T08:09:24.235711",
     "status": "completed"
    },
    "tags": []
   },
   "source": [
    "****Q3.**** ***replace missing values and make sure it replaced***"
   ]
  },
  {
   "cell_type": "code",
   "execution_count": 7,
   "id": "ee271509",
   "metadata": {
    "execution": {
     "iopub.execute_input": "2025-02-21T08:09:24.262745Z",
     "iopub.status.busy": "2025-02-21T08:09:24.262364Z",
     "iopub.status.idle": "2025-02-21T08:09:24.279173Z",
     "shell.execute_reply": "2025-02-21T08:09:24.278072Z"
    },
    "papermill": {
     "duration": 0.028156,
     "end_time": "2025-02-21T08:09:24.280992",
     "exception": false,
     "start_time": "2025-02-21T08:09:24.252836",
     "status": "completed"
    },
    "tags": []
   },
   "outputs": [
    {
     "data": {
      "text/plain": [
       "show_id         0\n",
       "type            0\n",
       "title           1\n",
       "director        0\n",
       "cast            0\n",
       "country         0\n",
       "date_added      1\n",
       "release_year    1\n",
       "rating          1\n",
       "duration        1\n",
       "listed_in       1\n",
       "description     1\n",
       "dtype: int64"
      ]
     },
     "execution_count": 7,
     "metadata": {},
     "output_type": "execute_result"
    }
   ],
   "source": [
    "df['director']=df['director'].fillna('UnKnown')\n",
    "df['country']=df['country'].fillna('UnKnown')\n",
    "df['cast']=df['cast'].fillna('UnKnown')\n",
    "df.isnull().sum()"
   ]
  },
  {
   "cell_type": "markdown",
   "id": "5219aa7c",
   "metadata": {
    "papermill": {
     "duration": 0.008383,
     "end_time": "2025-02-21T08:09:24.298405",
     "exception": false,
     "start_time": "2025-02-21T08:09:24.290022",
     "status": "completed"
    },
    "tags": []
   },
   "source": [
    "****Q4.**** ***Clean the date_added Column***"
   ]
  },
  {
   "cell_type": "code",
   "execution_count": 8,
   "id": "70b5368d",
   "metadata": {
    "execution": {
     "iopub.execute_input": "2025-02-21T08:09:24.317507Z",
     "iopub.status.busy": "2025-02-21T08:09:24.317068Z",
     "iopub.status.idle": "2025-02-21T08:09:24.340859Z",
     "shell.execute_reply": "2025-02-21T08:09:24.339793Z"
    },
    "papermill": {
     "duration": 0.035206,
     "end_time": "2025-02-21T08:09:24.342651",
     "exception": false,
     "start_time": "2025-02-21T08:09:24.307445",
     "status": "completed"
    },
    "tags": []
   },
   "outputs": [],
   "source": [
    "df['date_added']=df['date_added'].fillna('UnKnown')\n",
    "df['date_added']=pd.to_datetime(df['date_added'],errors='coerce')"
   ]
  },
  {
   "cell_type": "markdown",
   "id": "12431203",
   "metadata": {
    "papermill": {
     "duration": 0.008327,
     "end_time": "2025-02-21T08:09:24.359759",
     "exception": false,
     "start_time": "2025-02-21T08:09:24.351432",
     "status": "completed"
    },
    "tags": []
   },
   "source": [
    "****Q4.**** ***generate year_added and month_added Columns and ckech they generated***"
   ]
  },
  {
   "cell_type": "code",
   "execution_count": 9,
   "id": "7c6addef",
   "metadata": {
    "execution": {
     "iopub.execute_input": "2025-02-21T08:09:24.378118Z",
     "iopub.status.busy": "2025-02-21T08:09:24.377754Z",
     "iopub.status.idle": "2025-02-21T08:09:24.398677Z",
     "shell.execute_reply": "2025-02-21T08:09:24.397451Z"
    },
    "papermill": {
     "duration": 0.032332,
     "end_time": "2025-02-21T08:09:24.400567",
     "exception": false,
     "start_time": "2025-02-21T08:09:24.368235",
     "status": "completed"
    },
    "tags": []
   },
   "outputs": [
    {
     "data": {
      "text/html": [
       "<div>\n",
       "<style scoped>\n",
       "    .dataframe tbody tr th:only-of-type {\n",
       "        vertical-align: middle;\n",
       "    }\n",
       "\n",
       "    .dataframe tbody tr th {\n",
       "        vertical-align: top;\n",
       "    }\n",
       "\n",
       "    .dataframe thead th {\n",
       "        text-align: right;\n",
       "    }\n",
       "</style>\n",
       "<table border=\"1\" class=\"dataframe\">\n",
       "  <thead>\n",
       "    <tr style=\"text-align: right;\">\n",
       "      <th></th>\n",
       "      <th>show_id</th>\n",
       "      <th>type</th>\n",
       "      <th>title</th>\n",
       "      <th>director</th>\n",
       "      <th>cast</th>\n",
       "      <th>country</th>\n",
       "      <th>date_added</th>\n",
       "      <th>release_year</th>\n",
       "      <th>rating</th>\n",
       "      <th>duration</th>\n",
       "      <th>listed_in</th>\n",
       "      <th>description</th>\n",
       "      <th>year_added</th>\n",
       "      <th>month_added</th>\n",
       "    </tr>\n",
       "  </thead>\n",
       "  <tbody>\n",
       "    <tr>\n",
       "      <th>0</th>\n",
       "      <td>s1</td>\n",
       "      <td>Movie</td>\n",
       "      <td>Dick Johnson Is Dead</td>\n",
       "      <td>Kirsten Johnson</td>\n",
       "      <td>UnKnown</td>\n",
       "      <td>United States</td>\n",
       "      <td>2021-09-25</td>\n",
       "      <td>2020.0</td>\n",
       "      <td>PG-13</td>\n",
       "      <td>90 min</td>\n",
       "      <td>Documentaries</td>\n",
       "      <td>As her father nears the end of his life, filmm...</td>\n",
       "      <td>2021.0</td>\n",
       "      <td>September</td>\n",
       "    </tr>\n",
       "    <tr>\n",
       "      <th>1</th>\n",
       "      <td>s2</td>\n",
       "      <td>TV Show</td>\n",
       "      <td>Blood &amp; Water</td>\n",
       "      <td>UnKnown</td>\n",
       "      <td>Ama Qamata, Khosi Ngema, Gail Mabalane, Thaban...</td>\n",
       "      <td>South Africa</td>\n",
       "      <td>2021-09-24</td>\n",
       "      <td>2021.0</td>\n",
       "      <td>TV-MA</td>\n",
       "      <td>2 Seasons</td>\n",
       "      <td>International TV Shows, TV Dramas, TV Mysteries</td>\n",
       "      <td>After crossing paths at a party, a Cape Town t...</td>\n",
       "      <td>2021.0</td>\n",
       "      <td>September</td>\n",
       "    </tr>\n",
       "    <tr>\n",
       "      <th>2</th>\n",
       "      <td>s3</td>\n",
       "      <td>TV Show</td>\n",
       "      <td>Ganglands</td>\n",
       "      <td>Julien Leclercq</td>\n",
       "      <td>Sami Bouajila, Tracy Gotoas, Samuel Jouy, Nabi...</td>\n",
       "      <td>UnKnown</td>\n",
       "      <td>2021-09-24</td>\n",
       "      <td>2021.0</td>\n",
       "      <td>TV-MA</td>\n",
       "      <td>1 Season</td>\n",
       "      <td>Crime TV Shows, International TV Shows, TV Act...</td>\n",
       "      <td>To protect his family from a powerful drug lor...</td>\n",
       "      <td>2021.0</td>\n",
       "      <td>September</td>\n",
       "    </tr>\n",
       "    <tr>\n",
       "      <th>3</th>\n",
       "      <td>s4</td>\n",
       "      <td>TV Show</td>\n",
       "      <td>Jailbirds New Orleans</td>\n",
       "      <td>UnKnown</td>\n",
       "      <td>UnKnown</td>\n",
       "      <td>UnKnown</td>\n",
       "      <td>2021-09-24</td>\n",
       "      <td>2021.0</td>\n",
       "      <td>TV-MA</td>\n",
       "      <td>1 Season</td>\n",
       "      <td>Docuseries, Reality TV</td>\n",
       "      <td>Feuds, flirtations and toilet talk go down amo...</td>\n",
       "      <td>2021.0</td>\n",
       "      <td>September</td>\n",
       "    </tr>\n",
       "    <tr>\n",
       "      <th>4</th>\n",
       "      <td>s5</td>\n",
       "      <td>TV Show</td>\n",
       "      <td>Kota Factory</td>\n",
       "      <td>UnKnown</td>\n",
       "      <td>Mayur More, Jitendra Kumar, Ranjan Raj, Alam K...</td>\n",
       "      <td>India</td>\n",
       "      <td>2021-09-24</td>\n",
       "      <td>2021.0</td>\n",
       "      <td>TV-MA</td>\n",
       "      <td>2 Seasons</td>\n",
       "      <td>International TV Shows, Romantic TV Shows, TV ...</td>\n",
       "      <td>In a city of coaching centers known to train I...</td>\n",
       "      <td>2021.0</td>\n",
       "      <td>September</td>\n",
       "    </tr>\n",
       "  </tbody>\n",
       "</table>\n",
       "</div>"
      ],
      "text/plain": [
       "  show_id     type                  title         director  \\\n",
       "0      s1    Movie   Dick Johnson Is Dead  Kirsten Johnson   \n",
       "1      s2  TV Show          Blood & Water          UnKnown   \n",
       "2      s3  TV Show              Ganglands  Julien Leclercq   \n",
       "3      s4  TV Show  Jailbirds New Orleans          UnKnown   \n",
       "4      s5  TV Show           Kota Factory          UnKnown   \n",
       "\n",
       "                                                cast        country  \\\n",
       "0                                            UnKnown  United States   \n",
       "1  Ama Qamata, Khosi Ngema, Gail Mabalane, Thaban...   South Africa   \n",
       "2  Sami Bouajila, Tracy Gotoas, Samuel Jouy, Nabi...        UnKnown   \n",
       "3                                            UnKnown        UnKnown   \n",
       "4  Mayur More, Jitendra Kumar, Ranjan Raj, Alam K...          India   \n",
       "\n",
       "  date_added  release_year rating   duration  \\\n",
       "0 2021-09-25        2020.0  PG-13     90 min   \n",
       "1 2021-09-24        2021.0  TV-MA  2 Seasons   \n",
       "2 2021-09-24        2021.0  TV-MA   1 Season   \n",
       "3 2021-09-24        2021.0  TV-MA   1 Season   \n",
       "4 2021-09-24        2021.0  TV-MA  2 Seasons   \n",
       "\n",
       "                                           listed_in  \\\n",
       "0                                      Documentaries   \n",
       "1    International TV Shows, TV Dramas, TV Mysteries   \n",
       "2  Crime TV Shows, International TV Shows, TV Act...   \n",
       "3                             Docuseries, Reality TV   \n",
       "4  International TV Shows, Romantic TV Shows, TV ...   \n",
       "\n",
       "                                         description  year_added month_added  \n",
       "0  As her father nears the end of his life, filmm...      2021.0   September  \n",
       "1  After crossing paths at a party, a Cape Town t...      2021.0   September  \n",
       "2  To protect his family from a powerful drug lor...      2021.0   September  \n",
       "3  Feuds, flirtations and toilet talk go down amo...      2021.0   September  \n",
       "4  In a city of coaching centers known to train I...      2021.0   September  "
      ]
     },
     "execution_count": 9,
     "metadata": {},
     "output_type": "execute_result"
    }
   ],
   "source": [
    "df['year_added']=df['date_added'].dt.year\n",
    "df['month_added']=df['date_added'].dt.month_name()\n",
    "df.head()"
   ]
  },
  {
   "cell_type": "markdown",
   "id": "fdb38cbe",
   "metadata": {
    "papermill": {
     "duration": 0.008922,
     "end_time": "2025-02-21T08:09:24.419033",
     "exception": false,
     "start_time": "2025-02-21T08:09:24.410111",
     "status": "completed"
    },
    "tags": []
   },
   "source": [
    "****Q5.**** ***Generate season Column***"
   ]
  },
  {
   "cell_type": "code",
   "execution_count": 10,
   "id": "b20d5c4f",
   "metadata": {
    "execution": {
     "iopub.execute_input": "2025-02-21T08:09:24.438486Z",
     "iopub.status.busy": "2025-02-21T08:09:24.438093Z",
     "iopub.status.idle": "2025-02-21T08:09:24.458704Z",
     "shell.execute_reply": "2025-02-21T08:09:24.457533Z"
    },
    "papermill": {
     "duration": 0.032464,
     "end_time": "2025-02-21T08:09:24.460479",
     "exception": false,
     "start_time": "2025-02-21T08:09:24.428015",
     "status": "completed"
    },
    "tags": []
   },
   "outputs": [
    {
     "data": {
      "text/html": [
       "<div>\n",
       "<style scoped>\n",
       "    .dataframe tbody tr th:only-of-type {\n",
       "        vertical-align: middle;\n",
       "    }\n",
       "\n",
       "    .dataframe tbody tr th {\n",
       "        vertical-align: top;\n",
       "    }\n",
       "\n",
       "    .dataframe thead th {\n",
       "        text-align: right;\n",
       "    }\n",
       "</style>\n",
       "<table border=\"1\" class=\"dataframe\">\n",
       "  <thead>\n",
       "    <tr style=\"text-align: right;\">\n",
       "      <th></th>\n",
       "      <th>show_id</th>\n",
       "      <th>type</th>\n",
       "      <th>title</th>\n",
       "      <th>director</th>\n",
       "      <th>cast</th>\n",
       "      <th>country</th>\n",
       "      <th>date_added</th>\n",
       "      <th>release_year</th>\n",
       "      <th>rating</th>\n",
       "      <th>duration</th>\n",
       "      <th>listed_in</th>\n",
       "      <th>description</th>\n",
       "      <th>year_added</th>\n",
       "      <th>month_added</th>\n",
       "      <th>season</th>\n",
       "    </tr>\n",
       "  </thead>\n",
       "  <tbody>\n",
       "    <tr>\n",
       "      <th>0</th>\n",
       "      <td>s1</td>\n",
       "      <td>Movie</td>\n",
       "      <td>Dick Johnson Is Dead</td>\n",
       "      <td>Kirsten Johnson</td>\n",
       "      <td>UnKnown</td>\n",
       "      <td>United States</td>\n",
       "      <td>2021-09-25</td>\n",
       "      <td>2020.0</td>\n",
       "      <td>PG-13</td>\n",
       "      <td>90 min</td>\n",
       "      <td>Documentaries</td>\n",
       "      <td>As her father nears the end of his life, filmm...</td>\n",
       "      <td>2021.0</td>\n",
       "      <td>September</td>\n",
       "      <td>Fall</td>\n",
       "    </tr>\n",
       "    <tr>\n",
       "      <th>1</th>\n",
       "      <td>s2</td>\n",
       "      <td>TV Show</td>\n",
       "      <td>Blood &amp; Water</td>\n",
       "      <td>UnKnown</td>\n",
       "      <td>Ama Qamata, Khosi Ngema, Gail Mabalane, Thaban...</td>\n",
       "      <td>South Africa</td>\n",
       "      <td>2021-09-24</td>\n",
       "      <td>2021.0</td>\n",
       "      <td>TV-MA</td>\n",
       "      <td>2 Seasons</td>\n",
       "      <td>International TV Shows, TV Dramas, TV Mysteries</td>\n",
       "      <td>After crossing paths at a party, a Cape Town t...</td>\n",
       "      <td>2021.0</td>\n",
       "      <td>September</td>\n",
       "      <td>Fall</td>\n",
       "    </tr>\n",
       "    <tr>\n",
       "      <th>2</th>\n",
       "      <td>s3</td>\n",
       "      <td>TV Show</td>\n",
       "      <td>Ganglands</td>\n",
       "      <td>Julien Leclercq</td>\n",
       "      <td>Sami Bouajila, Tracy Gotoas, Samuel Jouy, Nabi...</td>\n",
       "      <td>UnKnown</td>\n",
       "      <td>2021-09-24</td>\n",
       "      <td>2021.0</td>\n",
       "      <td>TV-MA</td>\n",
       "      <td>1 Season</td>\n",
       "      <td>Crime TV Shows, International TV Shows, TV Act...</td>\n",
       "      <td>To protect his family from a powerful drug lor...</td>\n",
       "      <td>2021.0</td>\n",
       "      <td>September</td>\n",
       "      <td>Fall</td>\n",
       "    </tr>\n",
       "    <tr>\n",
       "      <th>3</th>\n",
       "      <td>s4</td>\n",
       "      <td>TV Show</td>\n",
       "      <td>Jailbirds New Orleans</td>\n",
       "      <td>UnKnown</td>\n",
       "      <td>UnKnown</td>\n",
       "      <td>UnKnown</td>\n",
       "      <td>2021-09-24</td>\n",
       "      <td>2021.0</td>\n",
       "      <td>TV-MA</td>\n",
       "      <td>1 Season</td>\n",
       "      <td>Docuseries, Reality TV</td>\n",
       "      <td>Feuds, flirtations and toilet talk go down amo...</td>\n",
       "      <td>2021.0</td>\n",
       "      <td>September</td>\n",
       "      <td>Fall</td>\n",
       "    </tr>\n",
       "    <tr>\n",
       "      <th>4</th>\n",
       "      <td>s5</td>\n",
       "      <td>TV Show</td>\n",
       "      <td>Kota Factory</td>\n",
       "      <td>UnKnown</td>\n",
       "      <td>Mayur More, Jitendra Kumar, Ranjan Raj, Alam K...</td>\n",
       "      <td>India</td>\n",
       "      <td>2021-09-24</td>\n",
       "      <td>2021.0</td>\n",
       "      <td>TV-MA</td>\n",
       "      <td>2 Seasons</td>\n",
       "      <td>International TV Shows, Romantic TV Shows, TV ...</td>\n",
       "      <td>In a city of coaching centers known to train I...</td>\n",
       "      <td>2021.0</td>\n",
       "      <td>September</td>\n",
       "      <td>Fall</td>\n",
       "    </tr>\n",
       "  </tbody>\n",
       "</table>\n",
       "</div>"
      ],
      "text/plain": [
       "  show_id     type                  title         director  \\\n",
       "0      s1    Movie   Dick Johnson Is Dead  Kirsten Johnson   \n",
       "1      s2  TV Show          Blood & Water          UnKnown   \n",
       "2      s3  TV Show              Ganglands  Julien Leclercq   \n",
       "3      s4  TV Show  Jailbirds New Orleans          UnKnown   \n",
       "4      s5  TV Show           Kota Factory          UnKnown   \n",
       "\n",
       "                                                cast        country  \\\n",
       "0                                            UnKnown  United States   \n",
       "1  Ama Qamata, Khosi Ngema, Gail Mabalane, Thaban...   South Africa   \n",
       "2  Sami Bouajila, Tracy Gotoas, Samuel Jouy, Nabi...        UnKnown   \n",
       "3                                            UnKnown        UnKnown   \n",
       "4  Mayur More, Jitendra Kumar, Ranjan Raj, Alam K...          India   \n",
       "\n",
       "  date_added  release_year rating   duration  \\\n",
       "0 2021-09-25        2020.0  PG-13     90 min   \n",
       "1 2021-09-24        2021.0  TV-MA  2 Seasons   \n",
       "2 2021-09-24        2021.0  TV-MA   1 Season   \n",
       "3 2021-09-24        2021.0  TV-MA   1 Season   \n",
       "4 2021-09-24        2021.0  TV-MA  2 Seasons   \n",
       "\n",
       "                                           listed_in  \\\n",
       "0                                      Documentaries   \n",
       "1    International TV Shows, TV Dramas, TV Mysteries   \n",
       "2  Crime TV Shows, International TV Shows, TV Act...   \n",
       "3                             Docuseries, Reality TV   \n",
       "4  International TV Shows, Romantic TV Shows, TV ...   \n",
       "\n",
       "                                         description  year_added month_added  \\\n",
       "0  As her father nears the end of his life, filmm...      2021.0   September   \n",
       "1  After crossing paths at a party, a Cape Town t...      2021.0   September   \n",
       "2  To protect his family from a powerful drug lor...      2021.0   September   \n",
       "3  Feuds, flirtations and toilet talk go down amo...      2021.0   September   \n",
       "4  In a city of coaching centers known to train I...      2021.0   September   \n",
       "\n",
       "  season  \n",
       "0   Fall  \n",
       "1   Fall  \n",
       "2   Fall  \n",
       "3   Fall  \n",
       "4   Fall  "
      ]
     },
     "execution_count": 10,
     "metadata": {},
     "output_type": "execute_result"
    }
   ],
   "source": [
    "def season(month):\n",
    "    if month in ['June','July','August']:\n",
    "        return 'Summer'\n",
    "    if month in ['September','October','November']:\n",
    "        return 'Fall'\n",
    "    if month in ['December','January','February']:\n",
    "        return 'Winter'\n",
    "    if month in ['March','April','May']:\n",
    "        return 'Spring'\n",
    "    else:\n",
    "        return 'UnKnown'\n",
    "\n",
    "df['season']=df['month_added'].apply(season)\n",
    "df.head()"
   ]
  },
  {
   "cell_type": "markdown",
   "id": "f5103735",
   "metadata": {
    "papermill": {
     "duration": 0.009348,
     "end_time": "2025-02-21T08:09:24.479432",
     "exception": false,
     "start_time": "2025-02-21T08:09:24.470084",
     "status": "completed"
    },
    "tags": []
   },
   "source": [
    "# Analysis Qs"
   ]
  },
  {
   "cell_type": "markdown",
   "id": "b3a60f70",
   "metadata": {
    "papermill": {
     "duration": 0.009115,
     "end_time": "2025-02-21T08:09:24.498400",
     "exception": false,
     "start_time": "2025-02-21T08:09:24.489285",
     "status": "completed"
    },
    "tags": []
   },
   "source": [
    "***first Change data type of year_added Column to int and check it occurs***"
   ]
  },
  {
   "cell_type": "code",
   "execution_count": 11,
   "id": "ff2eef73",
   "metadata": {
    "execution": {
     "iopub.execute_input": "2025-02-21T08:09:24.518556Z",
     "iopub.status.busy": "2025-02-21T08:09:24.518139Z",
     "iopub.status.idle": "2025-02-21T08:09:24.537830Z",
     "shell.execute_reply": "2025-02-21T08:09:24.536827Z"
    },
    "papermill": {
     "duration": 0.03191,
     "end_time": "2025-02-21T08:09:24.539797",
     "exception": false,
     "start_time": "2025-02-21T08:09:24.507887",
     "status": "completed"
    },
    "tags": []
   },
   "outputs": [
    {
     "data": {
      "text/html": [
       "<div>\n",
       "<style scoped>\n",
       "    .dataframe tbody tr th:only-of-type {\n",
       "        vertical-align: middle;\n",
       "    }\n",
       "\n",
       "    .dataframe tbody tr th {\n",
       "        vertical-align: top;\n",
       "    }\n",
       "\n",
       "    .dataframe thead th {\n",
       "        text-align: right;\n",
       "    }\n",
       "</style>\n",
       "<table border=\"1\" class=\"dataframe\">\n",
       "  <thead>\n",
       "    <tr style=\"text-align: right;\">\n",
       "      <th></th>\n",
       "      <th>show_id</th>\n",
       "      <th>type</th>\n",
       "      <th>title</th>\n",
       "      <th>director</th>\n",
       "      <th>cast</th>\n",
       "      <th>country</th>\n",
       "      <th>date_added</th>\n",
       "      <th>release_year</th>\n",
       "      <th>rating</th>\n",
       "      <th>duration</th>\n",
       "      <th>listed_in</th>\n",
       "      <th>description</th>\n",
       "      <th>year_added</th>\n",
       "      <th>month_added</th>\n",
       "      <th>season</th>\n",
       "    </tr>\n",
       "  </thead>\n",
       "  <tbody>\n",
       "    <tr>\n",
       "      <th>0</th>\n",
       "      <td>s1</td>\n",
       "      <td>Movie</td>\n",
       "      <td>Dick Johnson Is Dead</td>\n",
       "      <td>Kirsten Johnson</td>\n",
       "      <td>UnKnown</td>\n",
       "      <td>United States</td>\n",
       "      <td>2021-09-25</td>\n",
       "      <td>2020.0</td>\n",
       "      <td>PG-13</td>\n",
       "      <td>90 min</td>\n",
       "      <td>Documentaries</td>\n",
       "      <td>As her father nears the end of his life, filmm...</td>\n",
       "      <td>2021</td>\n",
       "      <td>September</td>\n",
       "      <td>Fall</td>\n",
       "    </tr>\n",
       "    <tr>\n",
       "      <th>1</th>\n",
       "      <td>s2</td>\n",
       "      <td>TV Show</td>\n",
       "      <td>Blood &amp; Water</td>\n",
       "      <td>UnKnown</td>\n",
       "      <td>Ama Qamata, Khosi Ngema, Gail Mabalane, Thaban...</td>\n",
       "      <td>South Africa</td>\n",
       "      <td>2021-09-24</td>\n",
       "      <td>2021.0</td>\n",
       "      <td>TV-MA</td>\n",
       "      <td>2 Seasons</td>\n",
       "      <td>International TV Shows, TV Dramas, TV Mysteries</td>\n",
       "      <td>After crossing paths at a party, a Cape Town t...</td>\n",
       "      <td>2021</td>\n",
       "      <td>September</td>\n",
       "      <td>Fall</td>\n",
       "    </tr>\n",
       "    <tr>\n",
       "      <th>2</th>\n",
       "      <td>s3</td>\n",
       "      <td>TV Show</td>\n",
       "      <td>Ganglands</td>\n",
       "      <td>Julien Leclercq</td>\n",
       "      <td>Sami Bouajila, Tracy Gotoas, Samuel Jouy, Nabi...</td>\n",
       "      <td>UnKnown</td>\n",
       "      <td>2021-09-24</td>\n",
       "      <td>2021.0</td>\n",
       "      <td>TV-MA</td>\n",
       "      <td>1 Season</td>\n",
       "      <td>Crime TV Shows, International TV Shows, TV Act...</td>\n",
       "      <td>To protect his family from a powerful drug lor...</td>\n",
       "      <td>2021</td>\n",
       "      <td>September</td>\n",
       "      <td>Fall</td>\n",
       "    </tr>\n",
       "    <tr>\n",
       "      <th>3</th>\n",
       "      <td>s4</td>\n",
       "      <td>TV Show</td>\n",
       "      <td>Jailbirds New Orleans</td>\n",
       "      <td>UnKnown</td>\n",
       "      <td>UnKnown</td>\n",
       "      <td>UnKnown</td>\n",
       "      <td>2021-09-24</td>\n",
       "      <td>2021.0</td>\n",
       "      <td>TV-MA</td>\n",
       "      <td>1 Season</td>\n",
       "      <td>Docuseries, Reality TV</td>\n",
       "      <td>Feuds, flirtations and toilet talk go down amo...</td>\n",
       "      <td>2021</td>\n",
       "      <td>September</td>\n",
       "      <td>Fall</td>\n",
       "    </tr>\n",
       "    <tr>\n",
       "      <th>4</th>\n",
       "      <td>s5</td>\n",
       "      <td>TV Show</td>\n",
       "      <td>Kota Factory</td>\n",
       "      <td>UnKnown</td>\n",
       "      <td>Mayur More, Jitendra Kumar, Ranjan Raj, Alam K...</td>\n",
       "      <td>India</td>\n",
       "      <td>2021-09-24</td>\n",
       "      <td>2021.0</td>\n",
       "      <td>TV-MA</td>\n",
       "      <td>2 Seasons</td>\n",
       "      <td>International TV Shows, Romantic TV Shows, TV ...</td>\n",
       "      <td>In a city of coaching centers known to train I...</td>\n",
       "      <td>2021</td>\n",
       "      <td>September</td>\n",
       "      <td>Fall</td>\n",
       "    </tr>\n",
       "  </tbody>\n",
       "</table>\n",
       "</div>"
      ],
      "text/plain": [
       "  show_id     type                  title         director  \\\n",
       "0      s1    Movie   Dick Johnson Is Dead  Kirsten Johnson   \n",
       "1      s2  TV Show          Blood & Water          UnKnown   \n",
       "2      s3  TV Show              Ganglands  Julien Leclercq   \n",
       "3      s4  TV Show  Jailbirds New Orleans          UnKnown   \n",
       "4      s5  TV Show           Kota Factory          UnKnown   \n",
       "\n",
       "                                                cast        country  \\\n",
       "0                                            UnKnown  United States   \n",
       "1  Ama Qamata, Khosi Ngema, Gail Mabalane, Thaban...   South Africa   \n",
       "2  Sami Bouajila, Tracy Gotoas, Samuel Jouy, Nabi...        UnKnown   \n",
       "3                                            UnKnown        UnKnown   \n",
       "4  Mayur More, Jitendra Kumar, Ranjan Raj, Alam K...          India   \n",
       "\n",
       "  date_added  release_year rating   duration  \\\n",
       "0 2021-09-25        2020.0  PG-13     90 min   \n",
       "1 2021-09-24        2021.0  TV-MA  2 Seasons   \n",
       "2 2021-09-24        2021.0  TV-MA   1 Season   \n",
       "3 2021-09-24        2021.0  TV-MA   1 Season   \n",
       "4 2021-09-24        2021.0  TV-MA  2 Seasons   \n",
       "\n",
       "                                           listed_in  \\\n",
       "0                                      Documentaries   \n",
       "1    International TV Shows, TV Dramas, TV Mysteries   \n",
       "2  Crime TV Shows, International TV Shows, TV Act...   \n",
       "3                             Docuseries, Reality TV   \n",
       "4  International TV Shows, Romantic TV Shows, TV ...   \n",
       "\n",
       "                                         description  year_added month_added  \\\n",
       "0  As her father nears the end of his life, filmm...        2021   September   \n",
       "1  After crossing paths at a party, a Cape Town t...        2021   September   \n",
       "2  To protect his family from a powerful drug lor...        2021   September   \n",
       "3  Feuds, flirtations and toilet talk go down amo...        2021   September   \n",
       "4  In a city of coaching centers known to train I...        2021   September   \n",
       "\n",
       "  season  \n",
       "0   Fall  \n",
       "1   Fall  \n",
       "2   Fall  \n",
       "3   Fall  \n",
       "4   Fall  "
      ]
     },
     "execution_count": 11,
     "metadata": {},
     "output_type": "execute_result"
    }
   ],
   "source": [
    "df['year_added'] = df['year_added'].astype('Int64')\n",
    "df.head()"
   ]
  },
  {
   "cell_type": "markdown",
   "id": "f2e37a73",
   "metadata": {
    "papermill": {
     "duration": 0.009124,
     "end_time": "2025-02-21T08:09:24.558925",
     "exception": false,
     "start_time": "2025-02-21T08:09:24.549801",
     "status": "completed"
    },
    "tags": []
   },
   "source": [
    "****Q1.**** ***Return single value that represents the most Common year_added***"
   ]
  },
  {
   "cell_type": "code",
   "execution_count": 12,
   "id": "678288fe",
   "metadata": {
    "execution": {
     "iopub.execute_input": "2025-02-21T08:09:24.578982Z",
     "iopub.status.busy": "2025-02-21T08:09:24.578637Z",
     "iopub.status.idle": "2025-02-21T08:09:24.587389Z",
     "shell.execute_reply": "2025-02-21T08:09:24.586448Z"
    },
    "papermill": {
     "duration": 0.020619,
     "end_time": "2025-02-21T08:09:24.588977",
     "exception": false,
     "start_time": "2025-02-21T08:09:24.568358",
     "status": "completed"
    },
    "tags": []
   },
   "outputs": [
    {
     "data": {
      "text/plain": [
       "2020"
      ]
     },
     "execution_count": 12,
     "metadata": {},
     "output_type": "execute_result"
    }
   ],
   "source": [
    "df['year_added'].mode()[0]"
   ]
  },
  {
   "cell_type": "markdown",
   "id": "ef87c91c",
   "metadata": {
    "papermill": {
     "duration": 0.009185,
     "end_time": "2025-02-21T08:09:24.607810",
     "exception": false,
     "start_time": "2025-02-21T08:09:24.598625",
     "status": "completed"
    },
    "tags": []
   },
   "source": [
    "****Q2.**** ***Return value that represents the most Common rating***"
   ]
  },
  {
   "cell_type": "code",
   "execution_count": 13,
   "id": "6ae7e304",
   "metadata": {
    "execution": {
     "iopub.execute_input": "2025-02-21T08:09:24.628154Z",
     "iopub.status.busy": "2025-02-21T08:09:24.627746Z",
     "iopub.status.idle": "2025-02-21T08:09:24.634593Z",
     "shell.execute_reply": "2025-02-21T08:09:24.633446Z"
    },
    "papermill": {
     "duration": 0.018954,
     "end_time": "2025-02-21T08:09:24.636208",
     "exception": false,
     "start_time": "2025-02-21T08:09:24.617254",
     "status": "completed"
    },
    "tags": []
   },
   "outputs": [
    {
     "data": {
      "text/plain": [
       "'TV-MA'"
      ]
     },
     "execution_count": 13,
     "metadata": {},
     "output_type": "execute_result"
    }
   ],
   "source": [
    "df['rating'].mode()[0]"
   ]
  },
  {
   "cell_type": "markdown",
   "id": "0d3edd8c",
   "metadata": {
    "papermill": {
     "duration": 0.009391,
     "end_time": "2025-02-21T08:09:24.655535",
     "exception": false,
     "start_time": "2025-02-21T08:09:24.646144",
     "status": "completed"
    },
    "tags": []
   },
   "source": [
    "# Visualization Qs"
   ]
  },
  {
   "cell_type": "markdown",
   "id": "ecf85087",
   "metadata": {
    "papermill": {
     "duration": 0.009321,
     "end_time": "2025-02-21T08:09:24.674814",
     "exception": false,
     "start_time": "2025-02-21T08:09:24.665493",
     "status": "completed"
    },
    "tags": []
   },
   "source": [
    "****Q1.**** ***Calculate the percentage of Movies and TV Shows***"
   ]
  },
  {
   "cell_type": "code",
   "execution_count": 14,
   "id": "1712ea29",
   "metadata": {
    "execution": {
     "iopub.execute_input": "2025-02-21T08:09:24.695328Z",
     "iopub.status.busy": "2025-02-21T08:09:24.694931Z",
     "iopub.status.idle": "2025-02-21T08:09:24.703987Z",
     "shell.execute_reply": "2025-02-21T08:09:24.702731Z"
    },
    "papermill": {
     "duration": 0.021154,
     "end_time": "2025-02-21T08:09:24.705744",
     "exception": false,
     "start_time": "2025-02-21T08:09:24.684590",
     "status": "completed"
    },
    "tags": []
   },
   "outputs": [
    {
     "data": {
      "text/plain": [
       "type\n",
       "Movie      64.17\n",
       "TV Show    35.81\n",
       "TV Sh       0.02\n",
       "Name: proportion, dtype: float64"
      ]
     },
     "execution_count": 14,
     "metadata": {},
     "output_type": "execute_result"
    }
   ],
   "source": [
    "counts=(df['type'].value_counts(normalize=True)*100).round(2)\n",
    "counts"
   ]
  },
  {
   "cell_type": "markdown",
   "id": "8e8cbfc8",
   "metadata": {
    "papermill": {
     "duration": 0.009358,
     "end_time": "2025-02-21T08:09:24.724963",
     "exception": false,
     "start_time": "2025-02-21T08:09:24.715605",
     "status": "completed"
    },
    "tags": []
   },
   "source": [
    "****Q1.**** ***As we show we found TV Sh and that not normal so we need to modify string format to right format***"
   ]
  },
  {
   "cell_type": "code",
   "execution_count": 15,
   "id": "0c6276f7",
   "metadata": {
    "execution": {
     "iopub.execute_input": "2025-02-21T08:09:24.745821Z",
     "iopub.status.busy": "2025-02-21T08:09:24.745453Z",
     "iopub.status.idle": "2025-02-21T08:09:24.755689Z",
     "shell.execute_reply": "2025-02-21T08:09:24.754777Z"
    },
    "papermill": {
     "duration": 0.022458,
     "end_time": "2025-02-21T08:09:24.757207",
     "exception": false,
     "start_time": "2025-02-21T08:09:24.734749",
     "status": "completed"
    },
    "tags": []
   },
   "outputs": [
    {
     "data": {
      "text/plain": [
       "type\n",
       "Movie      64.17\n",
       "TV Show    35.83\n",
       "Name: proportion, dtype: float64"
      ]
     },
     "execution_count": 15,
     "metadata": {},
     "output_type": "execute_result"
    }
   ],
   "source": [
    "df['type']=df['type'].replace({'TV Sh':'TV Show'})\n",
    "counts=(df['type'].value_counts(normalize=True)*100).round(2)\n",
    "counts"
   ]
  },
  {
   "cell_type": "markdown",
   "id": "54b21046",
   "metadata": {
    "papermill": {
     "duration": 0.009519,
     "end_time": "2025-02-21T08:09:24.776939",
     "exception": false,
     "start_time": "2025-02-21T08:09:24.767420",
     "status": "completed"
    },
    "tags": []
   },
   "source": [
    "****Q1.**** ***Visualize the percentage***"
   ]
  },
  {
   "cell_type": "code",
   "execution_count": 16,
   "id": "dfd56574",
   "metadata": {
    "execution": {
     "iopub.execute_input": "2025-02-21T08:09:24.797827Z",
     "iopub.status.busy": "2025-02-21T08:09:24.797476Z",
     "iopub.status.idle": "2025-02-21T08:09:25.069814Z",
     "shell.execute_reply": "2025-02-21T08:09:25.068685Z"
    },
    "papermill": {
     "duration": 0.285255,
     "end_time": "2025-02-21T08:09:25.072039",
     "exception": false,
     "start_time": "2025-02-21T08:09:24.786784",
     "status": "completed"
    },
    "tags": []
   },
   "outputs": [
    {
     "data": {
      "image/png": "[encoded data removed]",
      "text/plain": [
       "<Figure size 640x480 with 1 Axes>"
      ]
     },
     "metadata": {},
     "output_type": "display_data"
    }
   ],
   "source": [
    "counts.plot(kind='pie',color=['blue','orange'])\n",
    "plt.title('Distribution of Movies vs. TV Shows')\n",
    "plt.ylabel('Percentage')\n",
    "plt.show()"
   ]
  },
  {
   "cell_type": "markdown",
   "id": "d9740bde",
   "metadata": {
    "papermill": {
     "duration": 0.010318,
     "end_time": "2025-02-21T08:09:25.096194",
     "exception": false,
     "start_time": "2025-02-21T08:09:25.085876",
     "status": "completed"
    },
    "tags": []
   },
   "source": [
    "****Q2.**** ***Show which country produce the most content***"
   ]
  },
  {
   "cell_type": "code",
   "execution_count": 17,
   "id": "f0d62aad",
   "metadata": {
    "execution": {
     "iopub.execute_input": "2025-02-21T08:09:25.118383Z",
     "iopub.status.busy": "2025-02-21T08:09:25.118008Z",
     "iopub.status.idle": "2025-02-21T08:09:25.312750Z",
     "shell.execute_reply": "2025-02-21T08:09:25.311601Z"
    },
    "papermill": {
     "duration": 0.208425,
     "end_time": "2025-02-21T08:09:25.314712",
     "exception": false,
     "start_time": "2025-02-21T08:09:25.106287",
     "status": "completed"
    },
    "tags": []
   },
   "outputs": [
    {
     "data": {
      "image/png": "[encoded data removed]",
      "text/plain": [
       "<Figure size 640x480 with 1 Axes>"
      ]
     },
     "metadata": {},
     "output_type": "display_data"
    }
   ],
   "source": [
    "counts=df['country'][df['country']!='UnKnown'].value_counts().head(5)\n",
    "counts.plot(kind='bar')\n",
    "plt.title('Top 5 Countries Produce The Most Content')\n",
    "plt.xlabel('Countries')\n",
    "plt.ylabel('Count')\n",
    "plt.show()"
   ]
  },
  {
   "cell_type": "markdown",
   "id": "e3d40892",
   "metadata": {
    "papermill": {
     "duration": 0.010803,
     "end_time": "2025-02-21T08:09:25.336803",
     "exception": false,
     "start_time": "2025-02-21T08:09:25.326000",
     "status": "completed"
    },
    "tags": []
   },
   "source": [
    "****Q3.**** ***Show the top 10 most ratings***"
   ]
  },
  {
   "cell_type": "code",
   "execution_count": 18,
   "id": "0ddf32a3",
   "metadata": {
    "execution": {
     "iopub.execute_input": "2025-02-21T08:09:25.423870Z",
     "iopub.status.busy": "2025-02-21T08:09:25.423537Z",
     "iopub.status.idle": "2025-02-21T08:09:25.611495Z",
     "shell.execute_reply": "2025-02-21T08:09:25.610438Z"
    },
    "papermill": {
     "duration": 0.265462,
     "end_time": "2025-02-21T08:09:25.613264",
     "exception": false,
     "start_time": "2025-02-21T08:09:25.347802",
     "status": "completed"
    },
    "tags": []
   },
   "outputs": [
    {
     "data": {
      "image/png": "[encoded data removed]",
      "text/plain": [
       "<Figure size 640x480 with 1 Axes>"
      ]
     },
     "metadata": {},
     "output_type": "display_data"
    }
   ],
   "source": [
    "counts=df['rating'].value_counts().head(10)\n",
    "counts.plot(kind='bar')\n",
    "plt.title('Top 10 Most Ratings')\n",
    "plt.ylabel('Count')\n",
    "plt.show()"
   ]
  },
  {
   "cell_type": "markdown",
   "id": "ca1fe9c4",
   "metadata": {
    "papermill": {
     "duration": 0.010964,
     "end_time": "2025-02-21T08:09:25.635798",
     "exception": false,
     "start_time": "2025-02-21T08:09:25.624834",
     "status": "completed"
    },
    "tags": []
   },
   "source": [
    "****Q4.**** ***Show the top 10 directors***"
   ]
  },
  {
   "cell_type": "code",
   "execution_count": 19,
   "id": "1a8ab9a8",
   "metadata": {
    "execution": {
     "iopub.execute_input": "2025-02-21T08:09:25.660551Z",
     "iopub.status.busy": "2025-02-21T08:09:25.660161Z",
     "iopub.status.idle": "2025-02-21T08:09:25.887558Z",
     "shell.execute_reply": "2025-02-21T08:09:25.886334Z"
    },
    "papermill": {
     "duration": 0.24164,
     "end_time": "2025-02-21T08:09:25.889310",
     "exception": false,
     "start_time": "2025-02-21T08:09:25.647670",
     "status": "completed"
    },
    "tags": []
   },
   "outputs": [
    {
     "data": {
      "image/png": "[encoded data removed]",
      "text/plain": [
       "<Figure size 640x480 with 1 Axes>"
      ]
     },
     "metadata": {},
     "output_type": "display_data"
    }
   ],
   "source": [
    "counts=df['director'][df['director']!='UnKnown'].value_counts().head(10)\n",
    "counts.plot(kind='bar')\n",
    "plt.title('Top 10 Directors')\n",
    "plt.ylabel('Count')\n",
    "plt.show()"
   ]
  },
  {
   "cell_type": "markdown",
   "id": "f1b60ee3",
   "metadata": {
    "papermill": {
     "duration": 0.011628,
     "end_time": "2025-02-21T08:09:25.913281",
     "exception": false,
     "start_time": "2025-02-21T08:09:25.901653",
     "status": "completed"
    },
    "tags": []
   },
   "source": [
    "****Q5.**** ***Visualize the duration of TV Show***"
   ]
  },
  {
   "cell_type": "code",
   "execution_count": 20,
   "id": "56f27331",
   "metadata": {
    "execution": {
     "iopub.execute_input": "2025-02-21T08:09:25.938829Z",
     "iopub.status.busy": "2025-02-21T08:09:25.938435Z",
     "iopub.status.idle": "2025-02-21T08:09:26.179013Z",
     "shell.execute_reply": "2025-02-21T08:09:26.177654Z"
    },
    "papermill": {
     "duration": 0.255766,
     "end_time": "2025-02-21T08:09:26.181182",
     "exception": false,
     "start_time": "2025-02-21T08:09:25.925416",
     "status": "completed"
    },
    "tags": []
   },
   "outputs": [
    {
     "data": {
      "image/png": "[encoded data removed]",
      "text/plain": [
       "<Figure size 640x480 with 1 Axes>"
      ]
     },
     "metadata": {},
     "output_type": "display_data"
    }
   ],
   "source": [
    "tv_shows=df[df['type']=='TV Show']\n",
    "durations=tv_shows['duration'].value_counts()\n",
    "plt.bar(durations.index,durations.values)\n",
    "plt.title('Durations of TV Show')\n",
    "plt.xlabel('Duration')\n",
    "plt.ylabel('Count')\n",
    "plt.xticks(rotation=45)\n",
    "plt.show()"
   ]
  },
  {
   "cell_type": "markdown",
   "id": "bd2660a1",
   "metadata": {
    "papermill": {
     "duration": 0.020284,
     "end_time": "2025-02-21T08:09:26.221123",
     "exception": false,
     "start_time": "2025-02-21T08:09:26.200839",
     "status": "completed"
    },
    "tags": []
   },
   "source": [
    "# Bonus Qs"
   ]
  },
  {
   "cell_type": "markdown",
   "id": "c065992b",
   "metadata": {
    "papermill": {
     "duration": 0.013293,
     "end_time": "2025-02-21T08:09:26.249112",
     "exception": false,
     "start_time": "2025-02-21T08:09:26.235819",
     "status": "completed"
    },
    "tags": []
   },
   "source": [
    "****Q1.**** ***Generate actor1 and actor2 columns from cast column and check it done***"
   ]
  },
  {
   "cell_type": "code",
   "execution_count": 21,
   "id": "5ee71f44",
   "metadata": {
    "execution": {
     "iopub.execute_input": "2025-02-21T08:09:26.277137Z",
     "iopub.status.busy": "2025-02-21T08:09:26.276790Z",
     "iopub.status.idle": "2025-02-21T08:09:26.336739Z",
     "shell.execute_reply": "2025-02-21T08:09:26.335418Z"
    },
    "papermill": {
     "duration": 0.07648,
     "end_time": "2025-02-21T08:09:26.339082",
     "exception": false,
     "start_time": "2025-02-21T08:09:26.262602",
     "status": "completed"
    },
    "tags": []
   },
   "outputs": [
    {
     "data": {
      "text/html": [
       "<div>\n",
       "<style scoped>\n",
       "    .dataframe tbody tr th:only-of-type {\n",
       "        vertical-align: middle;\n",
       "    }\n",
       "\n",
       "    .dataframe tbody tr th {\n",
       "        vertical-align: top;\n",
       "    }\n",
       "\n",
       "    .dataframe thead th {\n",
       "        text-align: right;\n",
       "    }\n",
       "</style>\n",
       "<table border=\"1\" class=\"dataframe\">\n",
       "  <thead>\n",
       "    <tr style=\"text-align: right;\">\n",
       "      <th></th>\n",
       "      <th>show_id</th>\n",
       "      <th>type</th>\n",
       "      <th>title</th>\n",
       "      <th>director</th>\n",
       "      <th>cast</th>\n",
       "      <th>country</th>\n",
       "      <th>date_added</th>\n",
       "      <th>release_year</th>\n",
       "      <th>rating</th>\n",
       "      <th>duration</th>\n",
       "      <th>listed_in</th>\n",
       "      <th>description</th>\n",
       "      <th>year_added</th>\n",
       "      <th>month_added</th>\n",
       "      <th>season</th>\n",
       "      <th>actor1</th>\n",
       "      <th>actor2</th>\n",
       "    </tr>\n",
       "  </thead>\n",
       "  <tbody>\n",
       "    <tr>\n",
       "      <th>0</th>\n",
       "      <td>s1</td>\n",
       "      <td>Movie</td>\n",
       "      <td>Dick Johnson Is Dead</td>\n",
       "      <td>Kirsten Johnson</td>\n",
       "      <td>UnKnown</td>\n",
       "      <td>United States</td>\n",
       "      <td>2021-09-25</td>\n",
       "      <td>2020.0</td>\n",
       "      <td>PG-13</td>\n",
       "      <td>90 min</td>\n",
       "      <td>Documentaries</td>\n",
       "      <td>As her father nears the end of his life, filmm...</td>\n",
       "      <td>2021</td>\n",
       "      <td>September</td>\n",
       "      <td>Fall</td>\n",
       "      <td>UnKnown</td>\n",
       "      <td>UnKnown</td>\n",
       "    </tr>\n",
       "    <tr>\n",
       "      <th>1</th>\n",
       "      <td>s2</td>\n",
       "      <td>TV Show</td>\n",
       "      <td>Blood &amp; Water</td>\n",
       "      <td>UnKnown</td>\n",
       "      <td>Ama Qamata, Khosi Ngema, Gail Mabalane, Thaban...</td>\n",
       "      <td>South Africa</td>\n",
       "      <td>2021-09-24</td>\n",
       "      <td>2021.0</td>\n",
       "      <td>TV-MA</td>\n",
       "      <td>2 Seasons</td>\n",
       "      <td>International TV Shows, TV Dramas, TV Mysteries</td>\n",
       "      <td>After crossing paths at a party, a Cape Town t...</td>\n",
       "      <td>2021</td>\n",
       "      <td>September</td>\n",
       "      <td>Fall</td>\n",
       "      <td>Ama Qamata</td>\n",
       "      <td>Khosi Ngema</td>\n",
       "    </tr>\n",
       "    <tr>\n",
       "      <th>2</th>\n",
       "      <td>s3</td>\n",
       "      <td>TV Show</td>\n",
       "      <td>Ganglands</td>\n",
       "      <td>Julien Leclercq</td>\n",
       "      <td>Sami Bouajila, Tracy Gotoas, Samuel Jouy, Nabi...</td>\n",
       "      <td>UnKnown</td>\n",
       "      <td>2021-09-24</td>\n",
       "      <td>2021.0</td>\n",
       "      <td>TV-MA</td>\n",
       "      <td>1 Season</td>\n",
       "      <td>Crime TV Shows, International TV Shows, TV Act...</td>\n",
       "      <td>To protect his family from a powerful drug lor...</td>\n",
       "      <td>2021</td>\n",
       "      <td>September</td>\n",
       "      <td>Fall</td>\n",
       "      <td>Sami Bouajila</td>\n",
       "      <td>Tracy Gotoas</td>\n",
       "    </tr>\n",
       "    <tr>\n",
       "      <th>3</th>\n",
       "      <td>s4</td>\n",
       "      <td>TV Show</td>\n",
       "      <td>Jailbirds New Orleans</td>\n",
       "      <td>UnKnown</td>\n",
       "      <td>UnKnown</td>\n",
       "      <td>UnKnown</td>\n",
       "      <td>2021-09-24</td>\n",
       "      <td>2021.0</td>\n",
       "      <td>TV-MA</td>\n",
       "      <td>1 Season</td>\n",
       "      <td>Docuseries, Reality TV</td>\n",
       "      <td>Feuds, flirtations and toilet talk go down amo...</td>\n",
       "      <td>2021</td>\n",
       "      <td>September</td>\n",
       "      <td>Fall</td>\n",
       "      <td>UnKnown</td>\n",
       "      <td>UnKnown</td>\n",
       "    </tr>\n",
       "    <tr>\n",
       "      <th>4</th>\n",
       "      <td>s5</td>\n",
       "      <td>TV Show</td>\n",
       "      <td>Kota Factory</td>\n",
       "      <td>UnKnown</td>\n",
       "      <td>Mayur More, Jitendra Kumar, Ranjan Raj, Alam K...</td>\n",
       "      <td>India</td>\n",
       "      <td>2021-09-24</td>\n",
       "      <td>2021.0</td>\n",
       "      <td>TV-MA</td>\n",
       "      <td>2 Seasons</td>\n",
       "      <td>International TV Shows, Romantic TV Shows, TV ...</td>\n",
       "      <td>In a city of coaching centers known to train I...</td>\n",
       "      <td>2021</td>\n",
       "      <td>September</td>\n",
       "      <td>Fall</td>\n",
       "      <td>Mayur More</td>\n",
       "      <td>Jitendra Kumar</td>\n",
       "    </tr>\n",
       "  </tbody>\n",
       "</table>\n",
       "</div>"
      ],
      "text/plain": [
       "  show_id     type                  title         director  \\\n",
       "0      s1    Movie   Dick Johnson Is Dead  Kirsten Johnson   \n",
       "1      s2  TV Show          Blood & Water          UnKnown   \n",
       "2      s3  TV Show              Ganglands  Julien Leclercq   \n",
       "3      s4  TV Show  Jailbirds New Orleans          UnKnown   \n",
       "4      s5  TV Show           Kota Factory          UnKnown   \n",
       "\n",
       "                                                cast        country  \\\n",
       "0                                            UnKnown  United States   \n",
       "1  Ama Qamata, Khosi Ngema, Gail Mabalane, Thaban...   South Africa   \n",
       "2  Sami Bouajila, Tracy Gotoas, Samuel Jouy, Nabi...        UnKnown   \n",
       "3                                            UnKnown        UnKnown   \n",
       "4  Mayur More, Jitendra Kumar, Ranjan Raj, Alam K...          India   \n",
       "\n",
       "  date_added  release_year rating   duration  \\\n",
       "0 2021-09-25        2020.0  PG-13     90 min   \n",
       "1 2021-09-24        2021.0  TV-MA  2 Seasons   \n",
       "2 2021-09-24        2021.0  TV-MA   1 Season   \n",
       "3 2021-09-24        2021.0  TV-MA   1 Season   \n",
       "4 2021-09-24        2021.0  TV-MA  2 Seasons   \n",
       "\n",
       "                                           listed_in  \\\n",
       "0                                      Documentaries   \n",
       "1    International TV Shows, TV Dramas, TV Mysteries   \n",
       "2  Crime TV Shows, International TV Shows, TV Act...   \n",
       "3                             Docuseries, Reality TV   \n",
       "4  International TV Shows, Romantic TV Shows, TV ...   \n",
       "\n",
       "                                         description  year_added month_added  \\\n",
       "0  As her father nears the end of his life, filmm...        2021   September   \n",
       "1  After crossing paths at a party, a Cape Town t...        2021   September   \n",
       "2  To protect his family from a powerful drug lor...        2021   September   \n",
       "3  Feuds, flirtations and toilet talk go down amo...        2021   September   \n",
       "4  In a city of coaching centers known to train I...        2021   September   \n",
       "\n",
       "  season         actor1          actor2  \n",
       "0   Fall        UnKnown         UnKnown  \n",
       "1   Fall     Ama Qamata     Khosi Ngema  \n",
       "2   Fall  Sami Bouajila    Tracy Gotoas  \n",
       "3   Fall        UnKnown         UnKnown  \n",
       "4   Fall     Mayur More  Jitendra Kumar  "
      ]
     },
     "execution_count": 21,
     "metadata": {},
     "output_type": "execute_result"
    }
   ],
   "source": [
    "df['actor1'] = df['cast'].apply(lambda x: x.split(', ')[0] if pd.notna(x) else 'UnKnown')\n",
    "df['actor2'] = df['cast'].apply(lambda x: x.split(', ')[1] if pd.notna(x) and len(x.split(', ')) > 1 else 'UnKnown')\n",
    "df.head()"
   ]
  },
  {
   "cell_type": "markdown",
   "id": "0ae96559",
   "metadata": {
    "papermill": {
     "duration": 0.023192,
     "end_time": "2025-02-21T08:09:26.380595",
     "exception": false,
     "start_time": "2025-02-21T08:09:26.357403",
     "status": "completed"
    },
    "tags": []
   },
   "source": [
    "****Q2.**** ***Visualize the top 10 first actors based on their appearances in Movies / TV Shows***"
   ]
  },
  {
   "cell_type": "code",
   "execution_count": 22,
   "id": "3082178e",
   "metadata": {
    "execution": {
     "iopub.execute_input": "2025-02-21T08:09:26.408386Z",
     "iopub.status.busy": "2025-02-21T08:09:26.407948Z",
     "iopub.status.idle": "2025-02-21T08:09:26.658966Z",
     "shell.execute_reply": "2025-02-21T08:09:26.657853Z"
    },
    "papermill": {
     "duration": 0.267148,
     "end_time": "2025-02-21T08:09:26.661036",
     "exception": false,
     "start_time": "2025-02-21T08:09:26.393888",
     "status": "completed"
    },
    "tags": []
   },
   "outputs": [
    {
     "data": {
      "image/png": "[encoded data removed]",
      "text/plain": [
       "<Figure size 640x480 with 1 Axes>"
      ]
     },
     "metadata": {},
     "output_type": "display_data"
    }
   ],
   "source": [
    "counts=df['actor1'][df['actor1']!='UnKnown'].value_counts().head(10)\n",
    "counts.plot(kind='bar')\n",
    "plt.title('Top 10 First Actors Based On Their Apperences in Movies/TV Shows')\n",
    "plt.xlabel('Actors')\n",
    "plt.ylabel('Count')\n",
    "plt.show()"
   ]
  },
  {
   "cell_type": "markdown",
   "id": "ddd61668",
   "metadata": {
    "papermill": {
     "duration": 0.013618,
     "end_time": "2025-02-21T08:09:26.689059",
     "exception": false,
     "start_time": "2025-02-21T08:09:26.675441",
     "status": "completed"
    },
    "tags": []
   },
   "source": [
    "****Q3.**** ***Visualize the top 10 first actors based on their appearances in Movies / TV Shows***"
   ]
  },
  {
   "cell_type": "code",
   "execution_count": 23,
   "id": "491fa3a8",
   "metadata": {
    "execution": {
     "iopub.execute_input": "2025-02-21T08:09:26.718482Z",
     "iopub.status.busy": "2025-02-21T08:09:26.718063Z",
     "iopub.status.idle": "2025-02-21T08:09:27.035283Z",
     "shell.execute_reply": "2025-02-21T08:09:27.034137Z"
    },
    "papermill": {
     "duration": 0.334023,
     "end_time": "2025-02-21T08:09:27.037171",
     "exception": false,
     "start_time": "2025-02-21T08:09:26.703148",
     "status": "completed"
    },
    "tags": []
   },
   "outputs": [
    {
     "data": {
      "image/png": "[encoded data removed]",
      "text/plain": [
       "<Figure size 640x480 with 1 Axes>"
      ]
     },
     "metadata": {},
     "output_type": "display_data"
    }
   ],
   "source": [
    "counts=df['actor2'][df['actor2']!='UnKnown'].value_counts().head(10)\n",
    "counts.plot(kind='bar')\n",
    "plt.title('Top 10 Second Actors Based On Their Apperences in Movies/TV Shows')\n",
    "plt.xlabel('Actors')\n",
    "plt.ylabel('Count')\n",
    "plt.show()"
   ]
  }
 ],
 "metadata": {
  "kaggle": {
   "accelerator": "none",
   "dataSources": [
    {
     "datasetId": 6688427,
     "sourceId": 10779471,
     "sourceType": "datasetVersion"
    }
   ],
   "dockerImageVersionId": 30886,
   "isGpuEnabled": false,
   "isInternetEnabled": true,
   "language": "python",
   "sourceType": "notebook"
  },
  "kernelspec": {
   "display_name": "Python 3",
   "language": "python",
   "name": "python3"
  },
  "language_info": {
   "codemirror_mode": {
    "name": "ipython",
    "version": 3
   },
   "file_extension": ".py",
   "mimetype": "text/x-python",
   "name": "python",
   "nbconvert_exporter": "python",
   "pygments_lexer": "ipython3",
   "version": "3.10.12"
  },
  "papermill": {
   "default_parameters": {},
   "duration": 8.002599,
   "end_time": "2025-02-21T08:09:27.674293",
   "environment_variables": {},
   "exception": null,
   "input_path": "__notebook__.ipynb",
   "output_path": "__notebook__.ipynb",
   "parameters": {},
   "start_time": "2025-02-21T08:09:19.671694",
   "version": "2.6.0"
  }
 },
 "nbformat": 4,
 "nbformat_minor": 5
}
