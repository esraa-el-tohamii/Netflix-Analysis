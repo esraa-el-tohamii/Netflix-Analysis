{
 "cells": [
  {
   "cell_type": "code",
   "execution_count": 1,
   "id": "9b081eb5",
   "metadata": {
    "_cell_guid": "b1076dfc-b9ad-4769-8c92-a6c4dae69d19",
    "_uuid": "8f2839f25d086af736a60e9eeb907d3b93b6e0e5",
    "execution": {
     "iopub.execute_input": "2025-02-21T16:29:16.248667Z",
     "iopub.status.busy": "2025-02-21T16:29:16.248322Z",
     "iopub.status.idle": "2025-02-21T16:29:17.258666Z",
     "shell.execute_reply": "2025-02-21T16:29:17.257120Z"
    },
    "papermill": {
     "duration": 1.022148,
     "end_time": "2025-02-21T16:29:17.260622",
     "exception": false,
     "start_time": "2025-02-21T16:29:16.238474",
     "status": "completed"
    },
    "tags": []
   },
   "outputs": [
    {
     "name": "stdout",
     "output_type": "stream",
     "text": [
      "/kaggle/input/dataset-netflix-shows-updated/netflix_data_updated.csv\n"
     ]
    }
   ],
   "source": [
    "# This Python 3 environment comes with many helpful analytics libraries installed\n",
    "# It is defined by the kaggle/python Docker image: https://github.com/kaggle/docker-python\n",
    "# For example, here's several helpful packages to load\n",
    "\n",
    "import numpy as np # linear algebra\n",
    "import pandas as pd # data processing, CSV file I/O (e.g. pd.read_csv)\n",
    "import matplotlib.pyplot as plt\n",
    "# Input data files are available in the read-only \"../input/\" directory\n",
    "# For example, running this (by clicking run or pressing Shift+Enter) will list all files under the input directory\n",
    "\n",
    "import os\n",
    "for dirname, _, filenames in os.walk('/kaggle/input'):\n",
    "    for filename in filenames:\n",
    "        print(os.path.join(dirname, filename))\n",
    "\n",
    "# You can write up to 20GB to the current directory (/kaggle/working/) that gets preserved as output when you create a version using \"Save & Run All\" \n",
    "# You can also write temporary files to /kaggle/temp/, but they won't be saved outside of the current session"
   ]
  },
  {
   "cell_type": "markdown",
   "id": "f6d06bfb",
   "metadata": {
    "papermill": {
     "duration": 0.007824,
     "end_time": "2025-02-21T16:29:17.276892",
     "exception": false,
     "start_time": "2025-02-21T16:29:17.269068",
     "status": "completed"
    },
    "tags": []
   },
   "source": [
    "***First Get Data***"
   ]
  },
  {
   "cell_type": "code",
   "execution_count": 2,
   "id": "59ced931",
   "metadata": {
    "execution": {
     "iopub.execute_input": "2025-02-21T16:29:17.295631Z",
     "iopub.status.busy": "2025-02-21T16:29:17.295093Z",
     "iopub.status.idle": "2025-02-21T16:29:17.413951Z",
     "shell.execute_reply": "2025-02-21T16:29:17.412864Z"
    },
    "papermill": {
     "duration": 0.130747,
     "end_time": "2025-02-21T16:29:17.415692",
     "exception": false,
     "start_time": "2025-02-21T16:29:17.284945",
     "status": "completed"
    },
    "tags": []
   },
   "outputs": [
    {
     "data": {
      "text/html": [
       "<div>\n",
       "<style scoped>\n",
       "    .dataframe tbody tr th:only-of-type {\n",
       "        vertical-align: middle;\n",
       "    }\n",
       "\n",
       "    .dataframe tbody tr th {\n",
       "        vertical-align: top;\n",
       "    }\n",
       "\n",
       "    .dataframe thead th {\n",
       "        text-align: right;\n",
       "    }\n",
       "</style>\n",
       "<table border=\"1\" class=\"dataframe\">\n",
       "  <thead>\n",
       "    <tr style=\"text-align: right;\">\n",
       "      <th></th>\n",
       "      <th>show_id</th>\n",
       "      <th>type</th>\n",
       "      <th>title</th>\n",
       "      <th>director</th>\n",
       "      <th>cast</th>\n",
       "      <th>country</th>\n",
       "      <th>date_added</th>\n",
       "      <th>release_year</th>\n",
       "      <th>rating</th>\n",
       "      <th>duration</th>\n",
       "      <th>listed_in</th>\n",
       "      <th>description</th>\n",
       "    </tr>\n",
       "  </thead>\n",
       "  <tbody>\n",
       "    <tr>\n",
       "      <th>0</th>\n",
       "      <td>s1</td>\n",
       "      <td>Movie</td>\n",
       "      <td>Dick Johnson Is Dead</td>\n",
       "      <td>Kirsten Johnson</td>\n",
       "      <td>NaN</td>\n",
       "      <td>United States</td>\n",
       "      <td>September 25, 2021</td>\n",
       "      <td>2020.0</td>\n",
       "      <td>PG-13</td>\n",
       "      <td>90 min</td>\n",
       "      <td>Documentaries</td>\n",
       "      <td>As her father nears the end of his life, filmm...</td>\n",
       "    </tr>\n",
       "    <tr>\n",
       "      <th>1</th>\n",
       "      <td>s2</td>\n",
       "      <td>TV Show</td>\n",
       "      <td>Blood &amp; Water</td>\n",
       "      <td>NaN</td>\n",
       "      <td>Ama Qamata, Khosi Ngema, Gail Mabalane, Thaban...</td>\n",
       "      <td>South Africa</td>\n",
       "      <td>September 24, 2021</td>\n",
       "      <td>2021.0</td>\n",
       "      <td>TV-MA</td>\n",
       "      <td>2 Seasons</td>\n",
       "      <td>International TV Shows, TV Dramas, TV Mysteries</td>\n",
       "      <td>After crossing paths at a party, a Cape Town t...</td>\n",
       "    </tr>\n",
       "    <tr>\n",
       "      <th>2</th>\n",
       "      <td>s3</td>\n",
       "      <td>TV Show</td>\n",
       "      <td>Ganglands</td>\n",
       "      <td>Julien Leclercq</td>\n",
       "      <td>Sami Bouajila, Tracy Gotoas, Samuel Jouy, Nabi...</td>\n",
       "      <td>NaN</td>\n",
       "      <td>September 24, 2021</td>\n",
       "      <td>2021.0</td>\n",
       "      <td>TV-MA</td>\n",
       "      <td>1 Season</td>\n",
       "      <td>Crime TV Shows, International TV Shows, TV Act...</td>\n",
       "      <td>To protect his family from a powerful drug lor...</td>\n",
       "    </tr>\n",
       "    <tr>\n",
       "      <th>3</th>\n",
       "      <td>s4</td>\n",
       "      <td>TV Show</td>\n",
       "      <td>Jailbirds New Orleans</td>\n",
       "      <td>NaN</td>\n",
       "      <td>NaN</td>\n",
       "      <td>NaN</td>\n",
       "      <td>September 24, 2021</td>\n",
       "      <td>2021.0</td>\n",
       "      <td>TV-MA</td>\n",
       "      <td>1 Season</td>\n",
       "      <td>Docuseries, Reality TV</td>\n",
       "      <td>Feuds, flirtations and toilet talk go down amo...</td>\n",
       "    </tr>\n",
       "    <tr>\n",
       "      <th>4</th>\n",
       "      <td>s5</td>\n",
       "      <td>TV Show</td>\n",
       "      <td>Kota Factory</td>\n",
       "      <td>NaN</td>\n",
       "      <td>Mayur More, Jitendra Kumar, Ranjan Raj, Alam K...</td>\n",
       "      <td>India</td>\n",
       "      <td>September 24, 2021</td>\n",
       "      <td>2021.0</td>\n",
       "      <td>TV-MA</td>\n",
       "      <td>2 Seasons</td>\n",
       "      <td>International TV Shows, Romantic TV Shows, TV ...</td>\n",
       "      <td>In a city of coaching centers known to train I...</td>\n",
       "    </tr>\n",
       "  </tbody>\n",
       "</table>\n",
       "</div>"
      ],
      "text/plain": [
       "  show_id     type                  title         director  \\\n",
       "0      s1    Movie   Dick Johnson Is Dead  Kirsten Johnson   \n",
       "1      s2  TV Show          Blood & Water              NaN   \n",
       "2      s3  TV Show              Ganglands  Julien Leclercq   \n",
       "3      s4  TV Show  Jailbirds New Orleans              NaN   \n",
       "4      s5  TV Show           Kota Factory              NaN   \n",
       "\n",
       "                                                cast        country  \\\n",
       "0                                                NaN  United States   \n",
       "1  Ama Qamata, Khosi Ngema, Gail Mabalane, Thaban...   South Africa   \n",
       "2  Sami Bouajila, Tracy Gotoas, Samuel Jouy, Nabi...            NaN   \n",
       "3                                                NaN            NaN   \n",
       "4  Mayur More, Jitendra Kumar, Ranjan Raj, Alam K...          India   \n",
       "\n",
       "           date_added  release_year rating   duration  \\\n",
       "0  September 25, 2021        2020.0  PG-13     90 min   \n",
       "1  September 24, 2021        2021.0  TV-MA  2 Seasons   \n",
       "2  September 24, 2021        2021.0  TV-MA   1 Season   \n",
       "3  September 24, 2021        2021.0  TV-MA   1 Season   \n",
       "4  September 24, 2021        2021.0  TV-MA  2 Seasons   \n",
       "\n",
       "                                           listed_in  \\\n",
       "0                                      Documentaries   \n",
       "1    International TV Shows, TV Dramas, TV Mysteries   \n",
       "2  Crime TV Shows, International TV Shows, TV Act...   \n",
       "3                             Docuseries, Reality TV   \n",
       "4  International TV Shows, Romantic TV Shows, TV ...   \n",
       "\n",
       "                                         description  \n",
       "0  As her father nears the end of his life, filmm...  \n",
       "1  After crossing paths at a party, a Cape Town t...  \n",
       "2  To protect his family from a powerful drug lor...  \n",
       "3  Feuds, flirtations and toilet talk go down amo...  \n",
       "4  In a city of coaching centers known to train I...  "
      ]
     },
     "execution_count": 2,
     "metadata": {},
     "output_type": "execute_result"
    }
   ],
   "source": [
    "df=pd.read_csv('/kaggle/input/dataset-netflix-shows-updated/netflix_data_updated.csv')\n",
    "df.head()"
   ]
  },
  {
   "cell_type": "markdown",
   "id": "443fa20a",
   "metadata": {
    "papermill": {
     "duration": 0.00871,
     "end_time": "2025-02-21T16:29:17.432921",
     "exception": false,
     "start_time": "2025-02-21T16:29:17.424211",
     "status": "completed"
    },
    "tags": []
   },
   "source": [
    "***Check Data Types***"
   ]
  },
  {
   "cell_type": "code",
   "execution_count": 3,
   "id": "51862de7",
   "metadata": {
    "execution": {
     "iopub.execute_input": "2025-02-21T16:29:17.450575Z",
     "iopub.status.busy": "2025-02-21T16:29:17.450224Z",
     "iopub.status.idle": "2025-02-21T16:29:17.457581Z",
     "shell.execute_reply": "2025-02-21T16:29:17.456353Z"
    },
    "papermill": {
     "duration": 0.018221,
     "end_time": "2025-02-21T16:29:17.459402",
     "exception": false,
     "start_time": "2025-02-21T16:29:17.441181",
     "status": "completed"
    },
    "tags": []
   },
   "outputs": [
    {
     "data": {
      "text/plain": [
       "show_id          object\n",
       "type             object\n",
       "title            object\n",
       "director         object\n",
       "cast             object\n",
       "country          object\n",
       "date_added       object\n",
       "release_year    float64\n",
       "rating           object\n",
       "duration         object\n",
       "listed_in        object\n",
       "description      object\n",
       "dtype: object"
      ]
     },
     "execution_count": 3,
     "metadata": {},
     "output_type": "execute_result"
    }
   ],
   "source": [
    "df.dtypes"
   ]
  },
  {
   "cell_type": "markdown",
   "id": "61711d9d",
   "metadata": {
    "papermill": {
     "duration": 0.008916,
     "end_time": "2025-02-21T16:29:17.476836",
     "exception": false,
     "start_time": "2025-02-21T16:29:17.467920",
     "status": "completed"
    },
    "tags": []
   },
   "source": [
    "***Check Null Values***"
   ]
  },
  {
   "cell_type": "code",
   "execution_count": 4,
   "id": "7b42ac07",
   "metadata": {
    "execution": {
     "iopub.execute_input": "2025-02-21T16:29:17.494671Z",
     "iopub.status.busy": "2025-02-21T16:29:17.494310Z",
     "iopub.status.idle": "2025-02-21T16:29:17.506557Z",
     "shell.execute_reply": "2025-02-21T16:29:17.505510Z"
    },
    "papermill": {
     "duration": 0.023282,
     "end_time": "2025-02-21T16:29:17.508375",
     "exception": false,
     "start_time": "2025-02-21T16:29:17.485093",
     "status": "completed"
    },
    "tags": []
   },
   "outputs": [
    {
     "data": {
      "text/plain": [
       "show_id            0\n",
       "type              40\n",
       "title              1\n",
       "director        1883\n",
       "cast             495\n",
       "country          663\n",
       "date_added         1\n",
       "release_year       1\n",
       "rating             1\n",
       "duration           1\n",
       "listed_in          1\n",
       "description        1\n",
       "dtype: int64"
      ]
     },
     "execution_count": 4,
     "metadata": {},
     "output_type": "execute_result"
    }
   ],
   "source": [
    "df.isnull().sum()"
   ]
  },
  {
   "cell_type": "markdown",
   "id": "ce4ee2a0",
   "metadata": {
    "papermill": {
     "duration": 0.008181,
     "end_time": "2025-02-21T16:29:17.525074",
     "exception": false,
     "start_time": "2025-02-21T16:29:17.516893",
     "status": "completed"
    },
    "tags": []
   },
   "source": [
    "# Cleaning Qs"
   ]
  },
  {
   "cell_type": "markdown",
   "id": "3a1baee2",
   "metadata": {
    "papermill": {
     "duration": 0.007954,
     "end_time": "2025-02-21T16:29:17.541304",
     "exception": false,
     "start_time": "2025-02-21T16:29:17.533350",
     "status": "completed"
    },
    "tags": []
   },
   "source": [
    "****Q1.**** ***yes > show_id column is important***"
   ]
  },
  {
   "cell_type": "markdown",
   "id": "75ad9d20",
   "metadata": {
    "papermill": {
     "duration": 0.00789,
     "end_time": "2025-02-21T16:29:17.557408",
     "exception": false,
     "start_time": "2025-02-21T16:29:17.549518",
     "status": "completed"
    },
    "tags": []
   },
   "source": [
    "****Q2.**** ***fill missing values in type column with 100% accuracy of filling***"
   ]
  },
  {
   "cell_type": "code",
   "execution_count": 5,
   "id": "125e3c5c",
   "metadata": {
    "execution": {
     "iopub.execute_input": "2025-02-21T16:29:17.575097Z",
     "iopub.status.busy": "2025-02-21T16:29:17.574702Z",
     "iopub.status.idle": "2025-02-21T16:29:17.588989Z",
     "shell.execute_reply": "2025-02-21T16:29:17.588110Z"
    },
    "papermill": {
     "duration": 0.024813,
     "end_time": "2025-02-21T16:29:17.590450",
     "exception": false,
     "start_time": "2025-02-21T16:29:17.565637",
     "status": "completed"
    },
    "tags": []
   },
   "outputs": [
    {
     "data": {
      "text/plain": [
       "show_id            0\n",
       "type               0\n",
       "title              1\n",
       "director        1883\n",
       "cast             495\n",
       "country          663\n",
       "date_added         1\n",
       "release_year       1\n",
       "rating             1\n",
       "duration           1\n",
       "listed_in          1\n",
       "description        1\n",
       "dtype: int64"
      ]
     },
     "execution_count": 5,
     "metadata": {},
     "output_type": "execute_result"
    }
   ],
   "source": [
    "df['type']=df['type'].fillna(df['duration'].apply(lambda x: 'Movie' if 'min' in str(x) else 'TV Show'))\n",
    "df.isnull().sum()"
   ]
  },
  {
   "cell_type": "markdown",
   "id": "b41c7625",
   "metadata": {
    "papermill": {
     "duration": 0.008134,
     "end_time": "2025-02-21T16:29:17.607276",
     "exception": false,
     "start_time": "2025-02-21T16:29:17.599142",
     "status": "completed"
    },
    "tags": []
   },
   "source": [
    "****Q3.**** ***Identify the three columns with the most missing values***"
   ]
  },
  {
   "cell_type": "code",
   "execution_count": 6,
   "id": "84fa6c4a",
   "metadata": {
    "execution": {
     "iopub.execute_input": "2025-02-21T16:29:17.626098Z",
     "iopub.status.busy": "2025-02-21T16:29:17.625723Z",
     "iopub.status.idle": "2025-02-21T16:29:17.639116Z",
     "shell.execute_reply": "2025-02-21T16:29:17.638071Z"
    },
    "papermill": {
     "duration": 0.024612,
     "end_time": "2025-02-21T16:29:17.640889",
     "exception": false,
     "start_time": "2025-02-21T16:29:17.616277",
     "status": "completed"
    },
    "tags": []
   },
   "outputs": [
    {
     "data": {
      "text/plain": [
       "director    1883\n",
       "country      663\n",
       "cast         495\n",
       "dtype: int64"
      ]
     },
     "execution_count": 6,
     "metadata": {},
     "output_type": "execute_result"
    }
   ],
   "source": [
    "df.isnull().sum().sort_values(ascending=False).head(3)"
   ]
  },
  {
   "cell_type": "markdown",
   "id": "ece0e28a",
   "metadata": {
    "papermill": {
     "duration": 0.008173,
     "end_time": "2025-02-21T16:29:17.657869",
     "exception": false,
     "start_time": "2025-02-21T16:29:17.649696",
     "status": "completed"
    },
    "tags": []
   },
   "source": [
    "****Q3.**** ***replace missing values and make sure it replaced***"
   ]
  },
  {
   "cell_type": "code",
   "execution_count": 7,
   "id": "f3c9d9f2",
   "metadata": {
    "execution": {
     "iopub.execute_input": "2025-02-21T16:29:17.676353Z",
     "iopub.status.busy": "2025-02-21T16:29:17.676016Z",
     "iopub.status.idle": "2025-02-21T16:29:17.691490Z",
     "shell.execute_reply": "2025-02-21T16:29:17.690373Z"
    },
    "papermill": {
     "duration": 0.026879,
     "end_time": "2025-02-21T16:29:17.693448",
     "exception": false,
     "start_time": "2025-02-21T16:29:17.666569",
     "status": "completed"
    },
    "tags": []
   },
   "outputs": [
    {
     "data": {
      "text/plain": [
       "show_id         0\n",
       "type            0\n",
       "title           1\n",
       "director        0\n",
       "cast            0\n",
       "country         0\n",
       "date_added      1\n",
       "release_year    1\n",
       "rating          1\n",
       "duration        1\n",
       "listed_in       1\n",
       "description     1\n",
       "dtype: int64"
      ]
     },
     "execution_count": 7,
     "metadata": {},
     "output_type": "execute_result"
    }
   ],
   "source": [
    "df['director']=df['director'].fillna('UnKnown')\n",
    "df['country']=df['country'].fillna('UnKnown')\n",
    "df['cast']=df['cast'].fillna('UnKnown')\n",
    "df.isnull().sum()"
   ]
  },
  {
   "cell_type": "markdown",
   "id": "3224055e",
   "metadata": {
    "papermill": {
     "duration": 0.008761,
     "end_time": "2025-02-21T16:29:17.711288",
     "exception": false,
     "start_time": "2025-02-21T16:29:17.702527",
     "status": "completed"
    },
    "tags": []
   },
   "source": [
    "****Q4.**** ***Clean the date_added Column***"
   ]
  },
  {
   "cell_type": "code",
   "execution_count": 8,
   "id": "e000f32b",
   "metadata": {
    "execution": {
     "iopub.execute_input": "2025-02-21T16:29:17.729772Z",
     "iopub.status.busy": "2025-02-21T16:29:17.729415Z",
     "iopub.status.idle": "2025-02-21T16:29:17.751135Z",
     "shell.execute_reply": "2025-02-21T16:29:17.750277Z"
    },
    "papermill": {
     "duration": 0.033005,
     "end_time": "2025-02-21T16:29:17.753003",
     "exception": false,
     "start_time": "2025-02-21T16:29:17.719998",
     "status": "completed"
    },
    "tags": []
   },
   "outputs": [],
   "source": [
    "df['date_added']=df['date_added'].fillna('UnKnown')\n",
    "df['date_added']=pd.to_datetime(df['date_added'],errors='coerce')"
   ]
  },
  {
   "cell_type": "markdown",
   "id": "5ff85a8d",
   "metadata": {
    "papermill": {
     "duration": 0.009652,
     "end_time": "2025-02-21T16:29:17.771821",
     "exception": false,
     "start_time": "2025-02-21T16:29:17.762169",
     "status": "completed"
    },
    "tags": []
   },
   "source": [
    "****Q4.**** ***generate year_added and month_added Columns and ckech they generated***"
   ]
  },
  {
   "cell_type": "code",
   "execution_count": 9,
   "id": "58022364",
   "metadata": {
    "execution": {
     "iopub.execute_input": "2025-02-21T16:29:17.790957Z",
     "iopub.status.busy": "2025-02-21T16:29:17.790553Z",
     "iopub.status.idle": "2025-02-21T16:29:17.811736Z",
     "shell.execute_reply": "2025-02-21T16:29:17.810651Z"
    },
    "papermill": {
     "duration": 0.032944,
     "end_time": "2025-02-21T16:29:17.813533",
     "exception": false,
     "start_time": "2025-02-21T16:29:17.780589",
     "status": "completed"
    },
    "tags": []
   },
   "outputs": [
    {
     "data": {
      "text/html": [
       "<div>\n",
       "<style scoped>\n",
       "    .dataframe tbody tr th:only-of-type {\n",
       "        vertical-align: middle;\n",
       "    }\n",
       "\n",
       "    .dataframe tbody tr th {\n",
       "        vertical-align: top;\n",
       "    }\n",
       "\n",
       "    .dataframe thead th {\n",
       "        text-align: right;\n",
       "    }\n",
       "</style>\n",
       "<table border=\"1\" class=\"dataframe\">\n",
       "  <thead>\n",
       "    <tr style=\"text-align: right;\">\n",
       "      <th></th>\n",
       "      <th>show_id</th>\n",
       "      <th>type</th>\n",
       "      <th>title</th>\n",
       "      <th>director</th>\n",
       "      <th>cast</th>\n",
       "      <th>country</th>\n",
       "      <th>date_added</th>\n",
       "      <th>release_year</th>\n",
       "      <th>rating</th>\n",
       "      <th>duration</th>\n",
       "      <th>listed_in</th>\n",
       "      <th>description</th>\n",
       "      <th>year_added</th>\n",
       "      <th>month_added</th>\n",
       "    </tr>\n",
       "  </thead>\n",
       "  <tbody>\n",
       "    <tr>\n",
       "      <th>0</th>\n",
       "      <td>s1</td>\n",
       "      <td>Movie</td>\n",
       "      <td>Dick Johnson Is Dead</td>\n",
       "      <td>Kirsten Johnson</td>\n",
       "      <td>UnKnown</td>\n",
       "      <td>United States</td>\n",
       "      <td>2021-09-25</td>\n",
       "      <td>2020.0</td>\n",
       "      <td>PG-13</td>\n",
       "      <td>90 min</td>\n",
       "      <td>Documentaries</td>\n",
       "      <td>As her father nears the end of his life, filmm...</td>\n",
       "      <td>2021.0</td>\n",
       "      <td>September</td>\n",
       "    </tr>\n",
       "    <tr>\n",
       "      <th>1</th>\n",
       "      <td>s2</td>\n",
       "      <td>TV Show</td>\n",
       "      <td>Blood &amp; Water</td>\n",
       "      <td>UnKnown</td>\n",
       "      <td>Ama Qamata, Khosi Ngema, Gail Mabalane, Thaban...</td>\n",
       "      <td>South Africa</td>\n",
       "      <td>2021-09-24</td>\n",
       "      <td>2021.0</td>\n",
       "      <td>TV-MA</td>\n",
       "      <td>2 Seasons</td>\n",
       "      <td>International TV Shows, TV Dramas, TV Mysteries</td>\n",
       "      <td>After crossing paths at a party, a Cape Town t...</td>\n",
       "      <td>2021.0</td>\n",
       "      <td>September</td>\n",
       "    </tr>\n",
       "    <tr>\n",
       "      <th>2</th>\n",
       "      <td>s3</td>\n",
       "      <td>TV Show</td>\n",
       "      <td>Ganglands</td>\n",
       "      <td>Julien Leclercq</td>\n",
       "      <td>Sami Bouajila, Tracy Gotoas, Samuel Jouy, Nabi...</td>\n",
       "      <td>UnKnown</td>\n",
       "      <td>2021-09-24</td>\n",
       "      <td>2021.0</td>\n",
       "      <td>TV-MA</td>\n",
       "      <td>1 Season</td>\n",
       "      <td>Crime TV Shows, International TV Shows, TV Act...</td>\n",
       "      <td>To protect his family from a powerful drug lor...</td>\n",
       "      <td>2021.0</td>\n",
       "      <td>September</td>\n",
       "    </tr>\n",
       "    <tr>\n",
       "      <th>3</th>\n",
       "      <td>s4</td>\n",
       "      <td>TV Show</td>\n",
       "      <td>Jailbirds New Orleans</td>\n",
       "      <td>UnKnown</td>\n",
       "      <td>UnKnown</td>\n",
       "      <td>UnKnown</td>\n",
       "      <td>2021-09-24</td>\n",
       "      <td>2021.0</td>\n",
       "      <td>TV-MA</td>\n",
       "      <td>1 Season</td>\n",
       "      <td>Docuseries, Reality TV</td>\n",
       "      <td>Feuds, flirtations and toilet talk go down amo...</td>\n",
       "      <td>2021.0</td>\n",
       "      <td>September</td>\n",
       "    </tr>\n",
       "    <tr>\n",
       "      <th>4</th>\n",
       "      <td>s5</td>\n",
       "      <td>TV Show</td>\n",
       "      <td>Kota Factory</td>\n",
       "      <td>UnKnown</td>\n",
       "      <td>Mayur More, Jitendra Kumar, Ranjan Raj, Alam K...</td>\n",
       "      <td>India</td>\n",
       "      <td>2021-09-24</td>\n",
       "      <td>2021.0</td>\n",
       "      <td>TV-MA</td>\n",
       "      <td>2 Seasons</td>\n",
       "      <td>International TV Shows, Romantic TV Shows, TV ...</td>\n",
       "      <td>In a city of coaching centers known to train I...</td>\n",
       "      <td>2021.0</td>\n",
       "      <td>September</td>\n",
       "    </tr>\n",
       "  </tbody>\n",
       "</table>\n",
       "</div>"
      ],
      "text/plain": [
       "  show_id     type                  title         director  \\\n",
       "0      s1    Movie   Dick Johnson Is Dead  Kirsten Johnson   \n",
       "1      s2  TV Show          Blood & Water          UnKnown   \n",
       "2      s3  TV Show              Ganglands  Julien Leclercq   \n",
       "3      s4  TV Show  Jailbirds New Orleans          UnKnown   \n",
       "4      s5  TV Show           Kota Factory          UnKnown   \n",
       "\n",
       "                                                cast        country  \\\n",
       "0                                            UnKnown  United States   \n",
       "1  Ama Qamata, Khosi Ngema, Gail Mabalane, Thaban...   South Africa   \n",
       "2  Sami Bouajila, Tracy Gotoas, Samuel Jouy, Nabi...        UnKnown   \n",
       "3                                            UnKnown        UnKnown   \n",
       "4  Mayur More, Jitendra Kumar, Ranjan Raj, Alam K...          India   \n",
       "\n",
       "  date_added  release_year rating   duration  \\\n",
       "0 2021-09-25        2020.0  PG-13     90 min   \n",
       "1 2021-09-24        2021.0  TV-MA  2 Seasons   \n",
       "2 2021-09-24        2021.0  TV-MA   1 Season   \n",
       "3 2021-09-24        2021.0  TV-MA   1 Season   \n",
       "4 2021-09-24        2021.0  TV-MA  2 Seasons   \n",
       "\n",
       "                                           listed_in  \\\n",
       "0                                      Documentaries   \n",
       "1    International TV Shows, TV Dramas, TV Mysteries   \n",
       "2  Crime TV Shows, International TV Shows, TV Act...   \n",
       "3                             Docuseries, Reality TV   \n",
       "4  International TV Shows, Romantic TV Shows, TV ...   \n",
       "\n",
       "                                         description  year_added month_added  \n",
       "0  As her father nears the end of his life, filmm...      2021.0   September  \n",
       "1  After crossing paths at a party, a Cape Town t...      2021.0   September  \n",
       "2  To protect his family from a powerful drug lor...      2021.0   September  \n",
       "3  Feuds, flirtations and toilet talk go down amo...      2021.0   September  \n",
       "4  In a city of coaching centers known to train I...      2021.0   September  "
      ]
     },
     "execution_count": 9,
     "metadata": {},
     "output_type": "execute_result"
    }
   ],
   "source": [
    "df['year_added']=df['date_added'].dt.year\n",
    "df['month_added']=df['date_added'].dt.month_name()\n",
    "df.head()"
   ]
  },
  {
   "cell_type": "markdown",
   "id": "057aff6b",
   "metadata": {
    "papermill": {
     "duration": 0.008702,
     "end_time": "2025-02-21T16:29:17.832321",
     "exception": false,
     "start_time": "2025-02-21T16:29:17.823619",
     "status": "completed"
    },
    "tags": []
   },
   "source": [
    "****Q5.**** ***Generate season Column***"
   ]
  },
  {
   "cell_type": "code",
   "execution_count": 10,
   "id": "34682235",
   "metadata": {
    "execution": {
     "iopub.execute_input": "2025-02-21T16:29:17.851600Z",
     "iopub.status.busy": "2025-02-21T16:29:17.851219Z",
     "iopub.status.idle": "2025-02-21T16:29:17.872307Z",
     "shell.execute_reply": "2025-02-21T16:29:17.871183Z"
    },
    "papermill": {
     "duration": 0.032796,
     "end_time": "2025-02-21T16:29:17.873964",
     "exception": false,
     "start_time": "2025-02-21T16:29:17.841168",
     "status": "completed"
    },
    "tags": []
   },
   "outputs": [
    {
     "data": {
      "text/html": [
       "<div>\n",
       "<style scoped>\n",
       "    .dataframe tbody tr th:only-of-type {\n",
       "        vertical-align: middle;\n",
       "    }\n",
       "\n",
       "    .dataframe tbody tr th {\n",
       "        vertical-align: top;\n",
       "    }\n",
       "\n",
       "    .dataframe thead th {\n",
       "        text-align: right;\n",
       "    }\n",
       "</style>\n",
       "<table border=\"1\" class=\"dataframe\">\n",
       "  <thead>\n",
       "    <tr style=\"text-align: right;\">\n",
       "      <th></th>\n",
       "      <th>show_id</th>\n",
       "      <th>type</th>\n",
       "      <th>title</th>\n",
       "      <th>director</th>\n",
       "      <th>cast</th>\n",
       "      <th>country</th>\n",
       "      <th>date_added</th>\n",
       "      <th>release_year</th>\n",
       "      <th>rating</th>\n",
       "      <th>duration</th>\n",
       "      <th>listed_in</th>\n",
       "      <th>description</th>\n",
       "      <th>year_added</th>\n",
       "      <th>month_added</th>\n",
       "      <th>season</th>\n",
       "    </tr>\n",
       "  </thead>\n",
       "  <tbody>\n",
       "    <tr>\n",
       "      <th>0</th>\n",
       "      <td>s1</td>\n",
       "      <td>Movie</td>\n",
       "      <td>Dick Johnson Is Dead</td>\n",
       "      <td>Kirsten Johnson</td>\n",
       "      <td>UnKnown</td>\n",
       "      <td>United States</td>\n",
       "      <td>2021-09-25</td>\n",
       "      <td>2020.0</td>\n",
       "      <td>PG-13</td>\n",
       "      <td>90 min</td>\n",
       "      <td>Documentaries</td>\n",
       "      <td>As her father nears the end of his life, filmm...</td>\n",
       "      <td>2021.0</td>\n",
       "      <td>September</td>\n",
       "      <td>Fall</td>\n",
       "    </tr>\n",
       "    <tr>\n",
       "      <th>1</th>\n",
       "      <td>s2</td>\n",
       "      <td>TV Show</td>\n",
       "      <td>Blood &amp; Water</td>\n",
       "      <td>UnKnown</td>\n",
       "      <td>Ama Qamata, Khosi Ngema, Gail Mabalane, Thaban...</td>\n",
       "      <td>South Africa</td>\n",
       "      <td>2021-09-24</td>\n",
       "      <td>2021.0</td>\n",
       "      <td>TV-MA</td>\n",
       "      <td>2 Seasons</td>\n",
       "      <td>International TV Shows, TV Dramas, TV Mysteries</td>\n",
       "      <td>After crossing paths at a party, a Cape Town t...</td>\n",
       "      <td>2021.0</td>\n",
       "      <td>September</td>\n",
       "      <td>Fall</td>\n",
       "    </tr>\n",
       "    <tr>\n",
       "      <th>2</th>\n",
       "      <td>s3</td>\n",
       "      <td>TV Show</td>\n",
       "      <td>Ganglands</td>\n",
       "      <td>Julien Leclercq</td>\n",
       "      <td>Sami Bouajila, Tracy Gotoas, Samuel Jouy, Nabi...</td>\n",
       "      <td>UnKnown</td>\n",
       "      <td>2021-09-24</td>\n",
       "      <td>2021.0</td>\n",
       "      <td>TV-MA</td>\n",
       "      <td>1 Season</td>\n",
       "      <td>Crime TV Shows, International TV Shows, TV Act...</td>\n",
       "      <td>To protect his family from a powerful drug lor...</td>\n",
       "      <td>2021.0</td>\n",
       "      <td>September</td>\n",
       "      <td>Fall</td>\n",
       "    </tr>\n",
       "    <tr>\n",
       "      <th>3</th>\n",
       "      <td>s4</td>\n",
       "      <td>TV Show</td>\n",
       "      <td>Jailbirds New Orleans</td>\n",
       "      <td>UnKnown</td>\n",
       "      <td>UnKnown</td>\n",
       "      <td>UnKnown</td>\n",
       "      <td>2021-09-24</td>\n",
       "      <td>2021.0</td>\n",
       "      <td>TV-MA</td>\n",
       "      <td>1 Season</td>\n",
       "      <td>Docuseries, Reality TV</td>\n",
       "      <td>Feuds, flirtations and toilet talk go down amo...</td>\n",
       "      <td>2021.0</td>\n",
       "      <td>September</td>\n",
       "      <td>Fall</td>\n",
       "    </tr>\n",
       "    <tr>\n",
       "      <th>4</th>\n",
       "      <td>s5</td>\n",
       "      <td>TV Show</td>\n",
       "      <td>Kota Factory</td>\n",
       "      <td>UnKnown</td>\n",
       "      <td>Mayur More, Jitendra Kumar, Ranjan Raj, Alam K...</td>\n",
       "      <td>India</td>\n",
       "      <td>2021-09-24</td>\n",
       "      <td>2021.0</td>\n",
       "      <td>TV-MA</td>\n",
       "      <td>2 Seasons</td>\n",
       "      <td>International TV Shows, Romantic TV Shows, TV ...</td>\n",
       "      <td>In a city of coaching centers known to train I...</td>\n",
       "      <td>2021.0</td>\n",
       "      <td>September</td>\n",
       "      <td>Fall</td>\n",
       "    </tr>\n",
       "  </tbody>\n",
       "</table>\n",
       "</div>"
      ],
      "text/plain": [
       "  show_id     type                  title         director  \\\n",
       "0      s1    Movie   Dick Johnson Is Dead  Kirsten Johnson   \n",
       "1      s2  TV Show          Blood & Water          UnKnown   \n",
       "2      s3  TV Show              Ganglands  Julien Leclercq   \n",
       "3      s4  TV Show  Jailbirds New Orleans          UnKnown   \n",
       "4      s5  TV Show           Kota Factory          UnKnown   \n",
       "\n",
       "                                                cast        country  \\\n",
       "0                                            UnKnown  United States   \n",
       "1  Ama Qamata, Khosi Ngema, Gail Mabalane, Thaban...   South Africa   \n",
       "2  Sami Bouajila, Tracy Gotoas, Samuel Jouy, Nabi...        UnKnown   \n",
       "3                                            UnKnown        UnKnown   \n",
       "4  Mayur More, Jitendra Kumar, Ranjan Raj, Alam K...          India   \n",
       "\n",
       "  date_added  release_year rating   duration  \\\n",
       "0 2021-09-25        2020.0  PG-13     90 min   \n",
       "1 2021-09-24        2021.0  TV-MA  2 Seasons   \n",
       "2 2021-09-24        2021.0  TV-MA   1 Season   \n",
       "3 2021-09-24        2021.0  TV-MA   1 Season   \n",
       "4 2021-09-24        2021.0  TV-MA  2 Seasons   \n",
       "\n",
       "                                           listed_in  \\\n",
       "0                                      Documentaries   \n",
       "1    International TV Shows, TV Dramas, TV Mysteries   \n",
       "2  Crime TV Shows, International TV Shows, TV Act...   \n",
       "3                             Docuseries, Reality TV   \n",
       "4  International TV Shows, Romantic TV Shows, TV ...   \n",
       "\n",
       "                                         description  year_added month_added  \\\n",
       "0  As her father nears the end of his life, filmm...      2021.0   September   \n",
       "1  After crossing paths at a party, a Cape Town t...      2021.0   September   \n",
       "2  To protect his family from a powerful drug lor...      2021.0   September   \n",
       "3  Feuds, flirtations and toilet talk go down amo...      2021.0   September   \n",
       "4  In a city of coaching centers known to train I...      2021.0   September   \n",
       "\n",
       "  season  \n",
       "0   Fall  \n",
       "1   Fall  \n",
       "2   Fall  \n",
       "3   Fall  \n",
       "4   Fall  "
      ]
     },
     "execution_count": 10,
     "metadata": {},
     "output_type": "execute_result"
    }
   ],
   "source": [
    "def season(month):\n",
    "    if month in ['June','July','August']:\n",
    "        return 'Summer'\n",
    "    if month in ['September','October','November']:\n",
    "        return 'Fall'\n",
    "    if month in ['December','January','February']:\n",
    "        return 'Winter'\n",
    "    if month in ['March','April','May']:\n",
    "        return 'Spring'\n",
    "    else:\n",
    "        return 'UnKnown'\n",
    "\n",
    "df['season']=df['month_added'].apply(season)\n",
    "df.head()"
   ]
  },
  {
   "cell_type": "markdown",
   "id": "8dd48dd0",
   "metadata": {
    "papermill": {
     "duration": 0.010499,
     "end_time": "2025-02-21T16:29:17.893734",
     "exception": false,
     "start_time": "2025-02-21T16:29:17.883235",
     "status": "completed"
    },
    "tags": []
   },
   "source": [
    "# Analysis Qs"
   ]
  },
  {
   "cell_type": "markdown",
   "id": "0693235f",
   "metadata": {
    "papermill": {
     "duration": 0.009363,
     "end_time": "2025-02-21T16:29:17.912526",
     "exception": false,
     "start_time": "2025-02-21T16:29:17.903163",
     "status": "completed"
    },
    "tags": []
   },
   "source": [
    "***first Change data type of year_added Column to int and check it occurs***"
   ]
  },
  {
   "cell_type": "code",
   "execution_count": 11,
   "id": "d8a70e8c",
   "metadata": {
    "execution": {
     "iopub.execute_input": "2025-02-21T16:29:17.932315Z",
     "iopub.status.busy": "2025-02-21T16:29:17.931934Z",
     "iopub.status.idle": "2025-02-21T16:29:17.950460Z",
     "shell.execute_reply": "2025-02-21T16:29:17.949183Z"
    },
    "papermill": {
     "duration": 0.030732,
     "end_time": "2025-02-21T16:29:17.952533",
     "exception": false,
     "start_time": "2025-02-21T16:29:17.921801",
     "status": "completed"
    },
    "tags": []
   },
   "outputs": [
    {
     "data": {
      "text/html": [
       "<div>\n",
       "<style scoped>\n",
       "    .dataframe tbody tr th:only-of-type {\n",
       "        vertical-align: middle;\n",
       "    }\n",
       "\n",
       "    .dataframe tbody tr th {\n",
       "        vertical-align: top;\n",
       "    }\n",
       "\n",
       "    .dataframe thead th {\n",
       "        text-align: right;\n",
       "    }\n",
       "</style>\n",
       "<table border=\"1\" class=\"dataframe\">\n",
       "  <thead>\n",
       "    <tr style=\"text-align: right;\">\n",
       "      <th></th>\n",
       "      <th>show_id</th>\n",
       "      <th>type</th>\n",
       "      <th>title</th>\n",
       "      <th>director</th>\n",
       "      <th>cast</th>\n",
       "      <th>country</th>\n",
       "      <th>date_added</th>\n",
       "      <th>release_year</th>\n",
       "      <th>rating</th>\n",
       "      <th>duration</th>\n",
       "      <th>listed_in</th>\n",
       "      <th>description</th>\n",
       "      <th>year_added</th>\n",
       "      <th>month_added</th>\n",
       "      <th>season</th>\n",
       "    </tr>\n",
       "  </thead>\n",
       "  <tbody>\n",
       "    <tr>\n",
       "      <th>0</th>\n",
       "      <td>s1</td>\n",
       "      <td>Movie</td>\n",
       "      <td>Dick Johnson Is Dead</td>\n",
       "      <td>Kirsten Johnson</td>\n",
       "      <td>UnKnown</td>\n",
       "      <td>United States</td>\n",
       "      <td>2021-09-25</td>\n",
       "      <td>2020.0</td>\n",
       "      <td>PG-13</td>\n",
       "      <td>90 min</td>\n",
       "      <td>Documentaries</td>\n",
       "      <td>As her father nears the end of his life, filmm...</td>\n",
       "      <td>2021</td>\n",
       "      <td>September</td>\n",
       "      <td>Fall</td>\n",
       "    </tr>\n",
       "    <tr>\n",
       "      <th>1</th>\n",
       "      <td>s2</td>\n",
       "      <td>TV Show</td>\n",
       "      <td>Blood &amp; Water</td>\n",
       "      <td>UnKnown</td>\n",
       "      <td>Ama Qamata, Khosi Ngema, Gail Mabalane, Thaban...</td>\n",
       "      <td>South Africa</td>\n",
       "      <td>2021-09-24</td>\n",
       "      <td>2021.0</td>\n",
       "      <td>TV-MA</td>\n",
       "      <td>2 Seasons</td>\n",
       "      <td>International TV Shows, TV Dramas, TV Mysteries</td>\n",
       "      <td>After crossing paths at a party, a Cape Town t...</td>\n",
       "      <td>2021</td>\n",
       "      <td>September</td>\n",
       "      <td>Fall</td>\n",
       "    </tr>\n",
       "    <tr>\n",
       "      <th>2</th>\n",
       "      <td>s3</td>\n",
       "      <td>TV Show</td>\n",
       "      <td>Ganglands</td>\n",
       "      <td>Julien Leclercq</td>\n",
       "      <td>Sami Bouajila, Tracy Gotoas, Samuel Jouy, Nabi...</td>\n",
       "      <td>UnKnown</td>\n",
       "      <td>2021-09-24</td>\n",
       "      <td>2021.0</td>\n",
       "      <td>TV-MA</td>\n",
       "      <td>1 Season</td>\n",
       "      <td>Crime TV Shows, International TV Shows, TV Act...</td>\n",
       "      <td>To protect his family from a powerful drug lor...</td>\n",
       "      <td>2021</td>\n",
       "      <td>September</td>\n",
       "      <td>Fall</td>\n",
       "    </tr>\n",
       "    <tr>\n",
       "      <th>3</th>\n",
       "      <td>s4</td>\n",
       "      <td>TV Show</td>\n",
       "      <td>Jailbirds New Orleans</td>\n",
       "      <td>UnKnown</td>\n",
       "      <td>UnKnown</td>\n",
       "      <td>UnKnown</td>\n",
       "      <td>2021-09-24</td>\n",
       "      <td>2021.0</td>\n",
       "      <td>TV-MA</td>\n",
       "      <td>1 Season</td>\n",
       "      <td>Docuseries, Reality TV</td>\n",
       "      <td>Feuds, flirtations and toilet talk go down amo...</td>\n",
       "      <td>2021</td>\n",
       "      <td>September</td>\n",
       "      <td>Fall</td>\n",
       "    </tr>\n",
       "    <tr>\n",
       "      <th>4</th>\n",
       "      <td>s5</td>\n",
       "      <td>TV Show</td>\n",
       "      <td>Kota Factory</td>\n",
       "      <td>UnKnown</td>\n",
       "      <td>Mayur More, Jitendra Kumar, Ranjan Raj, Alam K...</td>\n",
       "      <td>India</td>\n",
       "      <td>2021-09-24</td>\n",
       "      <td>2021.0</td>\n",
       "      <td>TV-MA</td>\n",
       "      <td>2 Seasons</td>\n",
       "      <td>International TV Shows, Romantic TV Shows, TV ...</td>\n",
       "      <td>In a city of coaching centers known to train I...</td>\n",
       "      <td>2021</td>\n",
       "      <td>September</td>\n",
       "      <td>Fall</td>\n",
       "    </tr>\n",
       "  </tbody>\n",
       "</table>\n",
       "</div>"
      ],
      "text/plain": [
       "  show_id     type                  title         director  \\\n",
       "0      s1    Movie   Dick Johnson Is Dead  Kirsten Johnson   \n",
       "1      s2  TV Show          Blood & Water          UnKnown   \n",
       "2      s3  TV Show              Ganglands  Julien Leclercq   \n",
       "3      s4  TV Show  Jailbirds New Orleans          UnKnown   \n",
       "4      s5  TV Show           Kota Factory          UnKnown   \n",
       "\n",
       "                                                cast        country  \\\n",
       "0                                            UnKnown  United States   \n",
       "1  Ama Qamata, Khosi Ngema, Gail Mabalane, Thaban...   South Africa   \n",
       "2  Sami Bouajila, Tracy Gotoas, Samuel Jouy, Nabi...        UnKnown   \n",
       "3                                            UnKnown        UnKnown   \n",
       "4  Mayur More, Jitendra Kumar, Ranjan Raj, Alam K...          India   \n",
       "\n",
       "  date_added  release_year rating   duration  \\\n",
       "0 2021-09-25        2020.0  PG-13     90 min   \n",
       "1 2021-09-24        2021.0  TV-MA  2 Seasons   \n",
       "2 2021-09-24        2021.0  TV-MA   1 Season   \n",
       "3 2021-09-24        2021.0  TV-MA   1 Season   \n",
       "4 2021-09-24        2021.0  TV-MA  2 Seasons   \n",
       "\n",
       "                                           listed_in  \\\n",
       "0                                      Documentaries   \n",
       "1    International TV Shows, TV Dramas, TV Mysteries   \n",
       "2  Crime TV Shows, International TV Shows, TV Act...   \n",
       "3                             Docuseries, Reality TV   \n",
       "4  International TV Shows, Romantic TV Shows, TV ...   \n",
       "\n",
       "                                         description  year_added month_added  \\\n",
       "0  As her father nears the end of his life, filmm...        2021   September   \n",
       "1  After crossing paths at a party, a Cape Town t...        2021   September   \n",
       "2  To protect his family from a powerful drug lor...        2021   September   \n",
       "3  Feuds, flirtations and toilet talk go down amo...        2021   September   \n",
       "4  In a city of coaching centers known to train I...        2021   September   \n",
       "\n",
       "  season  \n",
       "0   Fall  \n",
       "1   Fall  \n",
       "2   Fall  \n",
       "3   Fall  \n",
       "4   Fall  "
      ]
     },
     "execution_count": 11,
     "metadata": {},
     "output_type": "execute_result"
    }
   ],
   "source": [
    "df['year_added'] = df['year_added'].astype('Int64')\n",
    "df.head()"
   ]
  },
  {
   "cell_type": "markdown",
   "id": "60d60b3f",
   "metadata": {
    "papermill": {
     "duration": 0.009193,
     "end_time": "2025-02-21T16:29:17.971340",
     "exception": false,
     "start_time": "2025-02-21T16:29:17.962147",
     "status": "completed"
    },
    "tags": []
   },
   "source": [
    "****Q1.**** ***Return single value that represents the most Common year_added***"
   ]
  },
  {
   "cell_type": "code",
   "execution_count": 12,
   "id": "3617f70c",
   "metadata": {
    "execution": {
     "iopub.execute_input": "2025-02-21T16:29:17.992064Z",
     "iopub.status.busy": "2025-02-21T16:29:17.991685Z",
     "iopub.status.idle": "2025-02-21T16:29:18.000934Z",
     "shell.execute_reply": "2025-02-21T16:29:17.999857Z"
    },
    "papermill": {
     "duration": 0.021563,
     "end_time": "2025-02-21T16:29:18.002884",
     "exception": false,
     "start_time": "2025-02-21T16:29:17.981321",
     "status": "completed"
    },
    "tags": []
   },
   "outputs": [
    {
     "data": {
      "text/plain": [
       "2020"
      ]
     },
     "execution_count": 12,
     "metadata": {},
     "output_type": "execute_result"
    }
   ],
   "source": [
    "df['year_added'].mode()[0]"
   ]
  },
  {
   "cell_type": "markdown",
   "id": "3ad18b4b",
   "metadata": {
    "papermill": {
     "duration": 0.009309,
     "end_time": "2025-02-21T16:29:18.022008",
     "exception": false,
     "start_time": "2025-02-21T16:29:18.012699",
     "status": "completed"
    },
    "tags": []
   },
   "source": [
    "****Q2.**** ***Return value that represents the most Common rating***"
   ]
  },
  {
   "cell_type": "code",
   "execution_count": 13,
   "id": "984052f8",
   "metadata": {
    "execution": {
     "iopub.execute_input": "2025-02-21T16:29:18.042336Z",
     "iopub.status.busy": "2025-02-21T16:29:18.042001Z",
     "iopub.status.idle": "2025-02-21T16:29:18.048704Z",
     "shell.execute_reply": "2025-02-21T16:29:18.047721Z"
    },
    "papermill": {
     "duration": 0.019053,
     "end_time": "2025-02-21T16:29:18.050580",
     "exception": false,
     "start_time": "2025-02-21T16:29:18.031527",
     "status": "completed"
    },
    "tags": []
   },
   "outputs": [
    {
     "data": {
      "text/plain": [
       "'TV-MA'"
      ]
     },
     "execution_count": 13,
     "metadata": {},
     "output_type": "execute_result"
    }
   ],
   "source": [
    "df['rating'].mode()[0]"
   ]
  },
  {
   "cell_type": "markdown",
   "id": "4c3f5274",
   "metadata": {
    "papermill": {
     "duration": 0.009245,
     "end_time": "2025-02-21T16:29:18.069805",
     "exception": false,
     "start_time": "2025-02-21T16:29:18.060560",
     "status": "completed"
    },
    "tags": []
   },
   "source": [
    "# Visualization Qs"
   ]
  },
  {
   "cell_type": "markdown",
   "id": "b75d5f88",
   "metadata": {
    "papermill": {
     "duration": 0.009615,
     "end_time": "2025-02-21T16:29:18.088938",
     "exception": false,
     "start_time": "2025-02-21T16:29:18.079323",
     "status": "completed"
    },
    "tags": []
   },
   "source": [
    "****Q1.**** ***Calculate the percentage of Movies and TV Shows***"
   ]
  },
  {
   "cell_type": "code",
   "execution_count": 14,
   "id": "329e6a83",
   "metadata": {
    "execution": {
     "iopub.execute_input": "2025-02-21T16:29:18.109191Z",
     "iopub.status.busy": "2025-02-21T16:29:18.108865Z",
     "iopub.status.idle": "2025-02-21T16:29:18.117600Z",
     "shell.execute_reply": "2025-02-21T16:29:18.116519Z"
    },
    "papermill": {
     "duration": 0.020916,
     "end_time": "2025-02-21T16:29:18.119421",
     "exception": false,
     "start_time": "2025-02-21T16:29:18.098505",
     "status": "completed"
    },
    "tags": []
   },
   "outputs": [
    {
     "data": {
      "text/plain": [
       "type\n",
       "Movie      64.17\n",
       "TV Show    35.81\n",
       "TV Sh       0.02\n",
       "Name: proportion, dtype: float64"
      ]
     },
     "execution_count": 14,
     "metadata": {},
     "output_type": "execute_result"
    }
   ],
   "source": [
    "counts=(df['type'].value_counts(normalize=True)*100).round(2)\n",
    "counts"
   ]
  },
  {
   "cell_type": "markdown",
   "id": "b6b265fb",
   "metadata": {
    "papermill": {
     "duration": 0.011367,
     "end_time": "2025-02-21T16:29:18.141266",
     "exception": false,
     "start_time": "2025-02-21T16:29:18.129899",
     "status": "completed"
    },
    "tags": []
   },
   "source": [
    "****Q1.**** ***As we show we found TV Sh and that not normal so we need to modify string format to right format***"
   ]
  },
  {
   "cell_type": "code",
   "execution_count": 15,
   "id": "d6b1f13a",
   "metadata": {
    "execution": {
     "iopub.execute_input": "2025-02-21T16:29:18.162618Z",
     "iopub.status.busy": "2025-02-21T16:29:18.162210Z",
     "iopub.status.idle": "2025-02-21T16:29:18.172376Z",
     "shell.execute_reply": "2025-02-21T16:29:18.171474Z"
    },
    "papermill": {
     "duration": 0.022694,
     "end_time": "2025-02-21T16:29:18.174183",
     "exception": false,
     "start_time": "2025-02-21T16:29:18.151489",
     "status": "completed"
    },
    "tags": []
   },
   "outputs": [
    {
     "data": {
      "text/plain": [
       "type\n",
       "Movie      64.17\n",
       "TV Show    35.83\n",
       "Name: proportion, dtype: float64"
      ]
     },
     "execution_count": 15,
     "metadata": {},
     "output_type": "execute_result"
    }
   ],
   "source": [
    "df['type']=df['type'].replace({'TV Sh':'TV Show'})\n",
    "counts=(df['type'].value_counts(normalize=True)*100).round(2)\n",
    "counts"
   ]
  },
  {
   "cell_type": "markdown",
   "id": "bce9ca66",
   "metadata": {
    "papermill": {
     "duration": 0.009455,
     "end_time": "2025-02-21T16:29:18.193513",
     "exception": false,
     "start_time": "2025-02-21T16:29:18.184058",
     "status": "completed"
    },
    "tags": []
   },
   "source": [
    "****Q1.**** ***Visualize the percentage***"
   ]
  },
  {
   "cell_type": "code",
   "execution_count": 16,
   "id": "7bc1b26a",
   "metadata": {
    "execution": {
     "iopub.execute_input": "2025-02-21T16:29:18.214362Z",
     "iopub.status.busy": "2025-02-21T16:29:18.214016Z",
     "iopub.status.idle": "2025-02-21T16:29:18.481129Z",
     "shell.execute_reply": "2025-02-21T16:29:18.479778Z"
    },
    "papermill": {
     "duration": 0.279665,
     "end_time": "2025-02-21T16:29:18.482978",
     "exception": false,
     "start_time": "2025-02-21T16:29:18.203313",
     "status": "completed"
    },
    "tags": []
   },
   "outputs": [
    {
     "data": {
      "image/png": "[encoded data removed]",
      "text/plain": [
       "<Figure size 640x480 with 1 Axes>"
      ]
     },
     "metadata": {},
     "output_type": "display_data"
    }
   ],
   "source": [
    "counts.plot(kind='pie',colors=['blue','red'],autopct='%1.1f%%')\n",
    "plt.title('Distribution of Movies vs. TV Shows')\n",
    "plt.show()"
   ]
  },
  {
   "cell_type": "markdown",
   "id": "a45b12f5",
   "metadata": {
    "papermill": {
     "duration": 0.010076,
     "end_time": "2025-02-21T16:29:18.503328",
     "exception": false,
     "start_time": "2025-02-21T16:29:18.493252",
     "status": "completed"
    },
    "tags": []
   },
   "source": [
    "****Q2.**** ***Show which country produce the most content***"
   ]
  },
  {
   "cell_type": "code",
   "execution_count": 17,
   "id": "213f8987",
   "metadata": {
    "execution": {
     "iopub.execute_input": "2025-02-21T16:29:18.525278Z",
     "iopub.status.busy": "2025-02-21T16:29:18.524906Z",
     "iopub.status.idle": "2025-02-21T16:29:18.728198Z",
     "shell.execute_reply": "2025-02-21T16:29:18.726959Z"
    },
    "papermill": {
     "duration": 0.21665,
     "end_time": "2025-02-21T16:29:18.730305",
     "exception": false,
     "start_time": "2025-02-21T16:29:18.513655",
     "status": "completed"
    },
    "tags": []
   },
   "outputs": [
    {
     "data": {
      "image/png": "[encoded data removed]",
      "text/plain": [
       "<Figure size 640x480 with 1 Axes>"
      ]
     },
     "metadata": {},
     "output_type": "display_data"
    }
   ],
   "source": [
    "counts=df['country'][df['country']!='UnKnown'].value_counts().head(5)\n",
    "counts.plot(kind='bar')\n",
    "plt.title('Top 5 Countries Produce The Most Content')\n",
    "plt.xlabel('Countries')\n",
    "plt.ylabel('Count')\n",
    "plt.show()"
   ]
  },
  {
   "cell_type": "markdown",
   "id": "8f7a66f0",
   "metadata": {
    "papermill": {
     "duration": 0.010947,
     "end_time": "2025-02-21T16:29:18.753896",
     "exception": false,
     "start_time": "2025-02-21T16:29:18.742949",
     "status": "completed"
    },
    "tags": []
   },
   "source": [
    "****Q3.**** ***Show the top 10 most ratings***"
   ]
  },
  {
   "cell_type": "code",
   "execution_count": 18,
   "id": "ed5c85e8",
   "metadata": {
    "execution": {
     "iopub.execute_input": "2025-02-21T16:29:18.836731Z",
     "iopub.status.busy": "2025-02-21T16:29:18.836382Z",
     "iopub.status.idle": "2025-02-21T16:29:19.036687Z",
     "shell.execute_reply": "2025-02-21T16:29:19.035642Z"
    },
    "papermill": {
     "duration": 0.273877,
     "end_time": "2025-02-21T16:29:19.038646",
     "exception": false,
     "start_time": "2025-02-21T16:29:18.764769",
     "status": "completed"
    },
    "tags": []
   },
   "outputs": [
    {
     "data": {
      "image/png": "[encoded data removed]",
      "text/plain": [
       "<Figure size 640x480 with 1 Axes>"
      ]
     },
     "metadata": {},
     "output_type": "display_data"
    }
   ],
   "source": [
    "counts=df['rating'].value_counts().head(10)\n",
    "counts.plot(kind='bar')\n",
    "plt.title('Top 10 Most Ratings')\n",
    "plt.ylabel('Count')\n",
    "plt.show()"
   ]
  },
  {
   "cell_type": "markdown",
   "id": "57a9419a",
   "metadata": {
    "papermill": {
     "duration": 0.011099,
     "end_time": "2025-02-21T16:29:19.061730",
     "exception": false,
     "start_time": "2025-02-21T16:29:19.050631",
     "status": "completed"
    },
    "tags": []
   },
   "source": [
    "****Q4.**** ***Show the top 10 directors***"
   ]
  },
  {
   "cell_type": "code",
   "execution_count": 19,
   "id": "df6f5aef",
   "metadata": {
    "execution": {
     "iopub.execute_input": "2025-02-21T16:29:19.087001Z",
     "iopub.status.busy": "2025-02-21T16:29:19.086625Z",
     "iopub.status.idle": "2025-02-21T16:29:19.320480Z",
     "shell.execute_reply": "2025-02-21T16:29:19.319329Z"
    },
    "papermill": {
     "duration": 0.248892,
     "end_time": "2025-02-21T16:29:19.322463",
     "exception": false,
     "start_time": "2025-02-21T16:29:19.073571",
     "status": "completed"
    },
    "tags": []
   },
   "outputs": [
    {
     "data": {
      "image/png": "[encoded data removed]",
      "text/plain": [
       "<Figure size 640x480 with 1 Axes>"
      ]
     },
     "metadata": {},
     "output_type": "display_data"
    }
   ],
   "source": [
    "counts=df['director'][df['director']!='UnKnown'].value_counts().head(10)\n",
    "counts.plot(kind='bar')\n",
    "plt.title('Top 10 Directors')\n",
    "plt.ylabel('Count')\n",
    "plt.show()"
   ]
  },
  {
   "cell_type": "markdown",
   "id": "5f7ce779",
   "metadata": {
    "papermill": {
     "duration": 0.012143,
     "end_time": "2025-02-21T16:29:19.347425",
     "exception": false,
     "start_time": "2025-02-21T16:29:19.335282",
     "status": "completed"
    },
    "tags": []
   },
   "source": [
    "****Q5.**** ***Visualize the duration of TV Show***"
   ]
  },
  {
   "cell_type": "code",
   "execution_count": 20,
   "id": "6880cf92",
   "metadata": {
    "execution": {
     "iopub.execute_input": "2025-02-21T16:29:19.373926Z",
     "iopub.status.busy": "2025-02-21T16:29:19.373528Z",
     "iopub.status.idle": "2025-02-21T16:29:19.618654Z",
     "shell.execute_reply": "2025-02-21T16:29:19.617293Z"
    },
    "papermill": {
     "duration": 0.260419,
     "end_time": "2025-02-21T16:29:19.620508",
     "exception": false,
     "start_time": "2025-02-21T16:29:19.360089",
     "status": "completed"
    },
    "tags": []
   },
   "outputs": [
    {
     "data": {
      "image/png": "[encoded data removed]",
      "text/plain": [
       "<Figure size 640x480 with 1 Axes>"
      ]
     },
     "metadata": {},
     "output_type": "display_data"
    }
   ],
   "source": [
    "tv_shows=df[df['type']=='TV Show']\n",
    "durations=tv_shows['duration'].value_counts()\n",
    "plt.bar(durations.index,durations.values)\n",
    "plt.title('Durations of TV Show')\n",
    "plt.xlabel('Duration')\n",
    "plt.ylabel('Count')\n",
    "plt.xticks(rotation=45)\n",
    "plt.show()"
   ]
  },
  {
   "cell_type": "markdown",
   "id": "c45c5fe4",
   "metadata": {
    "papermill": {
     "duration": 0.013446,
     "end_time": "2025-02-21T16:29:19.646881",
     "exception": false,
     "start_time": "2025-02-21T16:29:19.633435",
     "status": "completed"
    },
    "tags": []
   },
   "source": [
    "# Bonus Qs"
   ]
  },
  {
   "cell_type": "markdown",
   "id": "ad7f2dee",
   "metadata": {
    "papermill": {
     "duration": 0.013345,
     "end_time": "2025-02-21T16:29:19.673264",
     "exception": false,
     "start_time": "2025-02-21T16:29:19.659919",
     "status": "completed"
    },
    "tags": []
   },
   "source": [
    "****Q1.**** ***Generate actor1 and actor2 columns from cast column and check it done***"
   ]
  },
  {
   "cell_type": "code",
   "execution_count": 21,
   "id": "fcceedc8",
   "metadata": {
    "execution": {
     "iopub.execute_input": "2025-02-21T16:29:19.701873Z",
     "iopub.status.busy": "2025-02-21T16:29:19.701509Z",
     "iopub.status.idle": "2025-02-21T16:29:19.741799Z",
     "shell.execute_reply": "2025-02-21T16:29:19.740825Z"
    },
    "papermill": {
     "duration": 0.057116,
     "end_time": "2025-02-21T16:29:19.743570",
     "exception": false,
     "start_time": "2025-02-21T16:29:19.686454",
     "status": "completed"
    },
    "tags": []
   },
   "outputs": [
    {
     "data": {
      "text/html": [
       "<div>\n",
       "<style scoped>\n",
       "    .dataframe tbody tr th:only-of-type {\n",
       "        vertical-align: middle;\n",
       "    }\n",
       "\n",
       "    .dataframe tbody tr th {\n",
       "        vertical-align: top;\n",
       "    }\n",
       "\n",
       "    .dataframe thead th {\n",
       "        text-align: right;\n",
       "    }\n",
       "</style>\n",
       "<table border=\"1\" class=\"dataframe\">\n",
       "  <thead>\n",
       "    <tr style=\"text-align: right;\">\n",
       "      <th></th>\n",
       "      <th>show_id</th>\n",
       "      <th>type</th>\n",
       "      <th>title</th>\n",
       "      <th>director</th>\n",
       "      <th>cast</th>\n",
       "      <th>country</th>\n",
       "      <th>date_added</th>\n",
       "      <th>release_year</th>\n",
       "      <th>rating</th>\n",
       "      <th>duration</th>\n",
       "      <th>listed_in</th>\n",
       "      <th>description</th>\n",
       "      <th>year_added</th>\n",
       "      <th>month_added</th>\n",
       "      <th>season</th>\n",
       "      <th>actor1</th>\n",
       "      <th>actor2</th>\n",
       "    </tr>\n",
       "  </thead>\n",
       "  <tbody>\n",
       "    <tr>\n",
       "      <th>0</th>\n",
       "      <td>s1</td>\n",
       "      <td>Movie</td>\n",
       "      <td>Dick Johnson Is Dead</td>\n",
       "      <td>Kirsten Johnson</td>\n",
       "      <td>UnKnown</td>\n",
       "      <td>United States</td>\n",
       "      <td>2021-09-25</td>\n",
       "      <td>2020.0</td>\n",
       "      <td>PG-13</td>\n",
       "      <td>90 min</td>\n",
       "      <td>Documentaries</td>\n",
       "      <td>As her father nears the end of his life, filmm...</td>\n",
       "      <td>2021</td>\n",
       "      <td>September</td>\n",
       "      <td>Fall</td>\n",
       "      <td>UnKnown</td>\n",
       "      <td>UnKnown</td>\n",
       "    </tr>\n",
       "    <tr>\n",
       "      <th>1</th>\n",
       "      <td>s2</td>\n",
       "      <td>TV Show</td>\n",
       "      <td>Blood &amp; Water</td>\n",
       "      <td>UnKnown</td>\n",
       "      <td>Ama Qamata, Khosi Ngema, Gail Mabalane, Thaban...</td>\n",
       "      <td>South Africa</td>\n",
       "      <td>2021-09-24</td>\n",
       "      <td>2021.0</td>\n",
       "      <td>TV-MA</td>\n",
       "      <td>2 Seasons</td>\n",
       "      <td>International TV Shows, TV Dramas, TV Mysteries</td>\n",
       "      <td>After crossing paths at a party, a Cape Town t...</td>\n",
       "      <td>2021</td>\n",
       "      <td>September</td>\n",
       "      <td>Fall</td>\n",
       "      <td>Ama Qamata</td>\n",
       "      <td>Khosi Ngema</td>\n",
       "    </tr>\n",
       "    <tr>\n",
       "      <th>2</th>\n",
       "      <td>s3</td>\n",
       "      <td>TV Show</td>\n",
       "      <td>Ganglands</td>\n",
       "      <td>Julien Leclercq</td>\n",
       "      <td>Sami Bouajila, Tracy Gotoas, Samuel Jouy, Nabi...</td>\n",
       "      <td>UnKnown</td>\n",
       "      <td>2021-09-24</td>\n",
       "      <td>2021.0</td>\n",
       "      <td>TV-MA</td>\n",
       "      <td>1 Season</td>\n",
       "      <td>Crime TV Shows, International TV Shows, TV Act...</td>\n",
       "      <td>To protect his family from a powerful drug lor...</td>\n",
       "      <td>2021</td>\n",
       "      <td>September</td>\n",
       "      <td>Fall</td>\n",
       "      <td>Sami Bouajila</td>\n",
       "      <td>Tracy Gotoas</td>\n",
       "    </tr>\n",
       "    <tr>\n",
       "      <th>3</th>\n",
       "      <td>s4</td>\n",
       "      <td>TV Show</td>\n",
       "      <td>Jailbirds New Orleans</td>\n",
       "      <td>UnKnown</td>\n",
       "      <td>UnKnown</td>\n",
       "      <td>UnKnown</td>\n",
       "      <td>2021-09-24</td>\n",
       "      <td>2021.0</td>\n",
       "      <td>TV-MA</td>\n",
       "      <td>1 Season</td>\n",
       "      <td>Docuseries, Reality TV</td>\n",
       "      <td>Feuds, flirtations and toilet talk go down amo...</td>\n",
       "      <td>2021</td>\n",
       "      <td>September</td>\n",
       "      <td>Fall</td>\n",
       "      <td>UnKnown</td>\n",
       "      <td>UnKnown</td>\n",
       "    </tr>\n",
       "    <tr>\n",
       "      <th>4</th>\n",
       "      <td>s5</td>\n",
       "      <td>TV Show</td>\n",
       "      <td>Kota Factory</td>\n",
       "      <td>UnKnown</td>\n",
       "      <td>Mayur More, Jitendra Kumar, Ranjan Raj, Alam K...</td>\n",
       "      <td>India</td>\n",
       "      <td>2021-09-24</td>\n",
       "      <td>2021.0</td>\n",
       "      <td>TV-MA</td>\n",
       "      <td>2 Seasons</td>\n",
       "      <td>International TV Shows, Romantic TV Shows, TV ...</td>\n",
       "      <td>In a city of coaching centers known to train I...</td>\n",
       "      <td>2021</td>\n",
       "      <td>September</td>\n",
       "      <td>Fall</td>\n",
       "      <td>Mayur More</td>\n",
       "      <td>Jitendra Kumar</td>\n",
       "    </tr>\n",
       "  </tbody>\n",
       "</table>\n",
       "</div>"
      ],
      "text/plain": [
       "  show_id     type                  title         director  \\\n",
       "0      s1    Movie   Dick Johnson Is Dead  Kirsten Johnson   \n",
       "1      s2  TV Show          Blood & Water          UnKnown   \n",
       "2      s3  TV Show              Ganglands  Julien Leclercq   \n",
       "3      s4  TV Show  Jailbirds New Orleans          UnKnown   \n",
       "4      s5  TV Show           Kota Factory          UnKnown   \n",
       "\n",
       "                                                cast        country  \\\n",
       "0                                            UnKnown  United States   \n",
       "1  Ama Qamata, Khosi Ngema, Gail Mabalane, Thaban...   South Africa   \n",
       "2  Sami Bouajila, Tracy Gotoas, Samuel Jouy, Nabi...        UnKnown   \n",
       "3                                            UnKnown        UnKnown   \n",
       "4  Mayur More, Jitendra Kumar, Ranjan Raj, Alam K...          India   \n",
       "\n",
       "  date_added  release_year rating   duration  \\\n",
       "0 2021-09-25        2020.0  PG-13     90 min   \n",
       "1 2021-09-24        2021.0  TV-MA  2 Seasons   \n",
       "2 2021-09-24        2021.0  TV-MA   1 Season   \n",
       "3 2021-09-24        2021.0  TV-MA   1 Season   \n",
       "4 2021-09-24        2021.0  TV-MA  2 Seasons   \n",
       "\n",
       "                                           listed_in  \\\n",
       "0                                      Documentaries   \n",
       "1    International TV Shows, TV Dramas, TV Mysteries   \n",
       "2  Crime TV Shows, International TV Shows, TV Act...   \n",
       "3                             Docuseries, Reality TV   \n",
       "4  International TV Shows, Romantic TV Shows, TV ...   \n",
       "\n",
       "                                         description  year_added month_added  \\\n",
       "0  As her father nears the end of his life, filmm...        2021   September   \n",
       "1  After crossing paths at a party, a Cape Town t...        2021   September   \n",
       "2  To protect his family from a powerful drug lor...        2021   September   \n",
       "3  Feuds, flirtations and toilet talk go down amo...        2021   September   \n",
       "4  In a city of coaching centers known to train I...        2021   September   \n",
       "\n",
       "  season         actor1          actor2  \n",
       "0   Fall        UnKnown         UnKnown  \n",
       "1   Fall     Ama Qamata     Khosi Ngema  \n",
       "2   Fall  Sami Bouajila    Tracy Gotoas  \n",
       "3   Fall        UnKnown         UnKnown  \n",
       "4   Fall     Mayur More  Jitendra Kumar  "
      ]
     },
     "execution_count": 21,
     "metadata": {},
     "output_type": "execute_result"
    }
   ],
   "source": [
    "df['actor1'] = df['cast'].apply(lambda x: x.split(', ')[0] if pd.notna(x) else 'UnKnown')\n",
    "df['actor2'] = df['cast'].apply(lambda x: x.split(', ')[1] if pd.notna(x) and len(x.split(', ')) > 1 else 'UnKnown')\n",
    "df.head()"
   ]
  },
  {
   "cell_type": "markdown",
   "id": "a9745609",
   "metadata": {
    "papermill": {
     "duration": 0.012723,
     "end_time": "2025-02-21T16:29:19.769497",
     "exception": false,
     "start_time": "2025-02-21T16:29:19.756774",
     "status": "completed"
    },
    "tags": []
   },
   "source": [
    "****Q2.**** ***Visualize the top 10 first actors based on their appearances in Movies / TV Shows***"
   ]
  },
  {
   "cell_type": "code",
   "execution_count": 22,
   "id": "fe36ebf5",
   "metadata": {
    "execution": {
     "iopub.execute_input": "2025-02-21T16:29:19.797426Z",
     "iopub.status.busy": "2025-02-21T16:29:19.797086Z",
     "iopub.status.idle": "2025-02-21T16:29:20.075810Z",
     "shell.execute_reply": "2025-02-21T16:29:20.074378Z"
    },
    "papermill": {
     "duration": 0.295988,
     "end_time": "2025-02-21T16:29:20.078428",
     "exception": false,
     "start_time": "2025-02-21T16:29:19.782440",
     "status": "completed"
    },
    "tags": []
   },
   "outputs": [
    {
     "data": {
      "image/png": "[encoded data removed]",
      "text/plain": [
       "<Figure size 640x480 with 1 Axes>"
      ]
     },
     "metadata": {},
     "output_type": "display_data"
    }
   ],
   "source": [
    "counts=df['actor1'][df['actor1']!='UnKnown'].value_counts().head(10)\n",
    "counts.plot(kind='bar')\n",
    "plt.title('Top 10 First Actors Based On Their Apperences in Movies/TV Shows')\n",
    "plt.xlabel('Actors')\n",
    "plt.ylabel('Count')\n",
    "plt.show()"
   ]
  },
  {
   "cell_type": "markdown",
   "id": "af2425d7",
   "metadata": {
    "papermill": {
     "duration": 0.013447,
     "end_time": "2025-02-21T16:29:20.107601",
     "exception": false,
     "start_time": "2025-02-21T16:29:20.094154",
     "status": "completed"
    },
    "tags": []
   },
   "source": [
    "****Q3.**** ***Visualize the top 10 first actors based on their appearances in Movies / TV Shows***"
   ]
  },
  {
   "cell_type": "code",
   "execution_count": 23,
   "id": "ecf827d3",
   "metadata": {
    "execution": {
     "iopub.execute_input": "2025-02-21T16:29:20.137561Z",
     "iopub.status.busy": "2025-02-21T16:29:20.137185Z",
     "iopub.status.idle": "2025-02-21T16:29:20.459947Z",
     "shell.execute_reply": "2025-02-21T16:29:20.458733Z"
    },
    "papermill": {
     "duration": 0.340302,
     "end_time": "2025-02-21T16:29:20.461946",
     "exception": false,
     "start_time": "2025-02-21T16:29:20.121644",
     "status": "completed"
    },
    "tags": []
   },
   "outputs": [
    {
     "data": {
      "image/png": "[encoded data removed]",
      "text/plain": [
       "<Figure size 640x480 with 1 Axes>"
      ]
     },
     "metadata": {},
     "output_type": "display_data"
    }
   ],
   "source": [
    "counts=df['actor2'][df['actor2']!='UnKnown'].value_counts().head(10)\n",
    "counts.plot(kind='bar')\n",
    "plt.title('Top 10 Second Actors Based On Their Apperences in Movies/TV Shows')\n",
    "plt.xlabel('Actors')\n",
    "plt.ylabel('Count')\n",
    "plt.show()"
   ]
  }
 ],
 "metadata": {
  "kaggle": {
   "accelerator": "none",
   "dataSources": [
    {
     "datasetId": 6688427,
     "sourceId": 10779471,
     "sourceType": "datasetVersion"
    }
   ],
   "dockerImageVersionId": 30886,
   "isGpuEnabled": false,
   "isInternetEnabled": true,
   "language": "python",
   "sourceType": "notebook"
  },
  "kernelspec": {
   "display_name": "Python 3",
   "language": "python",
   "name": "python3"
  },
  "language_info": {
   "codemirror_mode": {
    "name": "ipython",
    "version": 3
   },
   "file_extension": ".py",
   "mimetype": "text/x-python",
   "name": "python",
   "nbconvert_exporter": "python",
   "pygments_lexer": "ipython3",
   "version": "3.10.12"
  },
  "papermill": {
   "default_parameters": {},
   "duration": 7.92593,
   "end_time": "2025-02-21T16:29:21.098296",
   "environment_variables": {},
   "exception": null,
   "input_path": "__notebook__.ipynb",
   "output_path": "__notebook__.ipynb",
   "parameters": {},
   "start_time": "2025-02-21T16:29:13.172366",
   "version": "2.6.0"
  }
 },
 "nbformat": 4,
 "nbformat_minor": 5
}
